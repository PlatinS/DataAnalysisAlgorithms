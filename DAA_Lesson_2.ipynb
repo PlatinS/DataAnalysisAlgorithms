{
 "cells": [
  {
   "cell_type": "code",
   "execution_count": 1,
   "metadata": {},
   "outputs": [],
   "source": [
    "import numpy as np\n",
    "from sklearn import datasets\n",
    "import matplotlib.pyplot as plt\n",
    "\n",
    "%matplotlib inline"
   ]
  },
  {
   "cell_type": "code",
   "execution_count": 2,
   "metadata": {},
   "outputs": [],
   "source": [
    "X = np.array([[1, 1, 1, 1, 1, 1, 1, 1, 1, 1],\n",
    "              [1, 1, 2, 5, 3, 0, 5, 10, 1, 2],\n",
    "              [500, 700, 750, 600, 1450, 800, 1500, 2000, 450, 1000],\n",
    "              [1, 1, 2, 1, 2, 1, 3, 3, 1, 2]])"
   ]
  },
  {
   "cell_type": "code",
   "execution_count": 3,
   "metadata": {},
   "outputs": [],
   "source": [
    "y = [45, 55, 50, 55, 60, 35, 75, 80, 50, 60]"
   ]
  },
  {
   "cell_type": "code",
   "execution_count": 4,
   "metadata": {},
   "outputs": [],
   "source": [
    "# Средняя квадратическая ошибка\n",
    "def calc_mse(y, y_pred):\n",
    "    err = np.mean((y - y_pred)**2)\n",
    "    return err"
   ]
  },
  {
   "cell_type": "code",
   "execution_count": 5,
   "metadata": {},
   "outputs": [],
   "source": [
    "# Функция стандартизации\n",
    "def calc_std_fit(x):\n",
    "    res = (x - x.mean()) / x.std()\n",
    "    return res"
   ]
  },
  {
   "cell_type": "code",
   "execution_count": 6,
   "metadata": {},
   "outputs": [],
   "source": [
    "# Градиентный спуск\n",
    "def eval_model(X, y, iterations, alpha=1e-4):\n",
    "    W = np.random.randn(X.shape[0])\n",
    "    n = X.shape[1]\n",
    "    for i in range(1, iterations+1):\n",
    "        y_pred = np.dot(W, X)\n",
    "        err = calc_mse(y, y_pred)\n",
    "        W -= (alpha * (1/n * 2 * np.dot((y_pred - y), X.T)))\n",
    "        if i % (iterations / 10) == 0:\n",
    "            print(i, W, err)\n",
    "    return W"
   ]
  },
  {
   "cell_type": "code",
   "execution_count": 7,
   "metadata": {},
   "outputs": [],
   "source": [
    "# Cтохастический градиентный спуск\n",
    "def eval_sgd_model(X, y, iterations, qty_in_batch, alpha=1e-4):\n",
    "    W = np.random.randn(X.shape[0])\n",
    "    n = X.shape[1]\n",
    "    n_batch = n // qty_in_batch\n",
    "    if n % qty_in_batch != 0:\n",
    "        n_batch += 1\n",
    "    for i in range(1, iterations+1):\n",
    "        for b in range(n_batch):\n",
    "            start_ = qty_in_batch*b\n",
    "            end_ = qty_in_batch*(b+1)\n",
    "            X_tmp = X[:, start_ : end_]\n",
    "            y_tmp = y[start_ : end_]\n",
    "            y_pred_tmp = np.dot(W, X_tmp)\n",
    "            err = calc_mse(y_tmp, y_pred_tmp)\n",
    "            W -= (alpha * (1/n * 2 * np.dot((y_pred_tmp - y_tmp), X_tmp.T)))\n",
    "        if i % (iterations / 10) == 0:\n",
    "            print(i, W, err)\n",
    "    return W"
   ]
  },
  {
   "cell_type": "code",
   "execution_count": 8,
   "metadata": {},
   "outputs": [
    {
     "data": {
      "text/plain": [
       "array([[ 1.        ,  1.        ,  1.        ,  1.        ,  1.        ,\n",
       "         1.        ,  1.        ,  1.        ,  1.        ,  1.        ],\n",
       "       [-0.70710678, -0.70710678, -0.35355339,  0.70710678,  0.        ,\n",
       "        -1.06066017,  0.70710678,  2.47487373, -0.70710678, -0.35355339],\n",
       "       [-0.97958969, -0.56713087, -0.46401617, -0.77336028,  0.97958969,\n",
       "        -0.36090146,  1.08270439,  2.11385144, -1.08270439,  0.05155735],\n",
       "       [-0.89625816, -0.89625816,  0.38411064, -0.89625816,  0.38411064,\n",
       "        -0.89625816,  1.66447944,  1.66447944, -0.89625816,  0.38411064]])"
      ]
     },
     "execution_count": 8,
     "metadata": {},
     "output_type": "execute_result"
    }
   ],
   "source": [
    "X_st = X.copy().astype(np.float64)\n",
    "X_st[1] = calc_std_fit(X[1])\n",
    "X_st[2] = calc_std_fit(X[2])\n",
    "X_st[3] = calc_std_fit(X[3])\n",
    "X_st"
   ]
  },
  {
   "cell_type": "code",
   "execution_count": 9,
   "metadata": {},
   "outputs": [
    {
     "name": "stdout",
     "output_type": "stream",
     "text": [
      "200 [55.52530192  5.0176068   2.73259564  4.63674065] 27.565796683922333\n",
      "400 [56.48285706  5.69750594  1.61821598  5.1289407 ] 25.568500879273323\n",
      "600 [56.49969849  5.97637014  0.93195456  5.56511755] 25.1906990291268\n",
      "800 [56.4999947   6.10903439  0.49247139  5.88819923] 25.03029699277215\n",
      "1000 [56.49999991  6.18116     0.20547141  6.11300887] 24.96005323075205\n",
      "1200 [5.65000000e+01 6.22420618e+00 1.62941134e-02 6.26547665e+00] 24.929090715974546\n",
      "1400 [56.5         6.25132389 -0.10894668  6.36772963] 24.915424047467255\n",
      "1600 [56.5         6.26889093 -0.1920266   6.43596221] 24.90938991519506\n",
      "1800 [56.5         6.28042634 -0.24718964  6.48138958] 24.906725552147268\n",
      "2000 [56.5         6.28804962 -0.28383211  6.51160241] 24.905549091176564\n",
      "Wall time: 40.5 ms\n"
     ]
    },
    {
     "data": {
      "text/plain": [
       "array([56.5       ,  6.28804962, -0.28383211,  6.51160241])"
      ]
     },
     "execution_count": 9,
     "metadata": {},
     "output_type": "execute_result"
    }
   ],
   "source": [
    "%%time\n",
    "eval_model(X_st, y, iterations=2000, alpha=1e-2)"
   ]
  },
  {
   "cell_type": "code",
   "execution_count": 10,
   "metadata": {},
   "outputs": [
    {
     "name": "stdout",
     "output_type": "stream",
     "text": [
      "200 [55.48696688  5.88936264  2.2229441   4.33046734] 23.324716199927927\n",
      "400 [56.47916095  5.97315695  1.36508874  5.11471228] 13.00952662840971\n",
      "600 [56.49700597  6.06561087  0.78750281  5.61735401] 11.958066279638778\n",
      "800 [56.49736751  6.13753661  0.4005682   5.94470175] 11.404918784568288\n",
      "1000 [56.49739872  6.18850723  0.14252187  6.16014255] 11.059123644471049\n",
      "1200 [ 5.64974147e+01  6.22333934e+00 -2.92053564e-02  6.30264509e+00] 10.836317519779547\n",
      "1400 [56.497425    6.24677472 -0.1433775   6.39712225] 10.690753624047847\n",
      "1600 [56.49743172  6.26243322 -0.21925073  6.45982641] 10.594961393489745\n",
      "1800 [56.49743616  6.27286272 -0.26966211  6.50146345] 10.531674785539948\n",
      "2000 [56.4974391   6.27979945 -0.30315312  6.52911769] 10.489771662576638\n",
      "Wall time: 152 ms\n"
     ]
    },
    {
     "data": {
      "text/plain": [
       "array([56.4974391 ,  6.27979945, -0.30315312,  6.52911769])"
      ]
     },
     "execution_count": 10,
     "metadata": {},
     "output_type": "execute_result"
    }
   ],
   "source": [
    "%%time\n",
    "eval_sgd_model(X_st, y, iterations=2000, qty_in_batch=3, alpha=1e-2)"
   ]
  },
  {
   "cell_type": "markdown",
   "metadata": {},
   "source": [
    "__1__. Постройте график зависимости весов всех признаков от lambda в L2-регуляризации (на данных из урока)."
   ]
  },
  {
   "cell_type": "code",
   "execution_count": 11,
   "metadata": {},
   "outputs": [],
   "source": [
    "# L2 регуляризация (Ridge)\n",
    "def eval_model_reg2(X, y, iterations, alpha=1e-4, lambda_=0.1):\n",
    "    np.random.seed(42)\n",
    "    W = np.random.randn(X.shape[0])\n",
    "    n = X.shape[1]\n",
    "    for i in range(1, iterations+1):\n",
    "        y_pred = np.dot(W, X)\n",
    "        err = calc_mse(y, y_pred)\n",
    "        W -= alpha * (1/n * 2 * np.dot((y_pred - y), X.T) + lambda_ * W) \n",
    "        #if flag and (i % (iterations / 10) == 0):\n",
    "    print(f'L2 = {lambda_:.4f}, W = {W}, Error = {err:.6f}')\n",
    "    return W"
   ]
  },
  {
   "cell_type": "code",
   "execution_count": 19,
   "metadata": {},
   "outputs": [
    {
     "name": "stdout",
     "output_type": "stream",
     "text": [
      "L2 = 0.1000, W = [47.28246714  4.26187363  3.09333123  4.70849286], Error = 112.446034\n"
     ]
    }
   ],
   "source": [
    "W = eval_model_reg2(X_st, y, iterations=10000, alpha=1e-4, lambda_=0.1)"
   ]
  },
  {
   "cell_type": "code",
   "execution_count": 39,
   "metadata": {},
   "outputs": [
    {
     "data": {
      "text/plain": [
       "array([1.00000e-03, 2.00950e-01, 4.00900e-01, 6.00850e-01, 8.00800e-01,\n",
       "       1.00075e+00, 1.20070e+00, 1.40065e+00, 1.60060e+00, 1.80055e+00,\n",
       "       2.00050e+00, 2.20045e+00, 2.40040e+00, 2.60035e+00, 2.80030e+00,\n",
       "       3.00025e+00, 3.20020e+00, 3.40015e+00, 3.60010e+00, 3.80005e+00,\n",
       "       4.00000e+00])"
      ]
     },
     "execution_count": 39,
     "metadata": {},
     "output_type": "execute_result"
    }
   ],
   "source": [
    "lambda_ = np.linspace(0.001, 4, 21)\n",
    "lambda_"
   ]
  },
  {
   "cell_type": "code",
   "execution_count": 40,
   "metadata": {},
   "outputs": [
    {
     "name": "stdout",
     "output_type": "stream",
     "text": [
      "L2 = 0.0010, W = [48.90545162  4.32990724  3.11411276  4.84397305], Error = 85.044090\n",
      "L2 = 0.2010, W = [45.71441989  4.19342716  3.07090527  4.57855563], Error = 144.010768\n",
      "L2 = 0.4009, W = [42.8460591   4.06095613  3.02348825  4.34317636], Error = 214.712705\n",
      "L2 = 0.6008, W = [40.26102674  3.93301573  2.9730579   4.13338962], Error = 292.814854\n",
      "L2 = 0.8008, W = [37.92528882  3.80992917  2.92057935  3.94547869], Error = 375.138804\n",
      "L2 = 1.0008, W = [35.80935749  3.69186767  2.86682818  3.77633086], Error = 459.371853\n",
      "L2 = 1.2007, W = [33.8876428   3.57888732  2.81242463  3.62333449], Error = 543.848768\n",
      "L2 = 1.4006, W = [32.13790107  3.47095817  2.75786167  3.48429395], Error = 627.387898\n",
      "L2 = 1.6006, W = [30.54076489  3.36798712  2.70352825  3.35735941], Error = 709.167995\n",
      "L2 = 1.8006, W = [29.0793424   3.26983591  2.64972839  3.24096878], Error = 788.635584\n",
      "L2 = 2.0005, W = [27.73887521  3.17633509  2.59669682  3.13379975], Error = 865.435301\n",
      "L2 = 2.2005, W = [26.50644612  3.08729484  2.54461196  3.03473003], Error = 939.357488\n",
      "L2 = 2.4004, W = [25.37072907  3.00251328  2.49360655  2.94280447], Error = 1010.298813\n",
      "L2 = 2.6004, W = [24.32177508  2.92178285  2.44377631  2.85720776], Error = 1078.232703\n",
      "L2 = 2.8003, W = [23.35082864  2.84489497  2.39518719  2.77724186], Error = 1143.187186\n",
      "L2 = 3.0003, W = [22.4501702   2.77164364  2.34788117  2.70230717], Error = 1205.228319\n",
      "L2 = 3.2002, W = [21.61298076  2.7018279   2.30188116  2.63188693], Error = 1264.447851\n",
      "L2 = 3.4002, W = [20.83322541  2.63525364  2.25719486  2.56553422], Error = 1320.954073\n",
      "L2 = 3.6001, W = [20.10555295  2.57173481  2.21381804  2.50286114], Error = 1374.865076\n",
      "L2 = 3.8001, W = [19.4252094   2.51109412  2.17173717  2.44352978], Error = 1426.303826\n",
      "L2 = 4.0000, W = [18.78796317  2.45316345  2.13093152  2.38724466], Error = 1475.394610\n"
     ]
    }
   ],
   "source": [
    "# Сформируем значения весов при различных lambda\n",
    "W0 = []\n",
    "W1 = []\n",
    "W2 = []\n",
    "W3 = []\n",
    "for lmd in lambda_:\n",
    "    W = eval_model_reg2(X_st, y, iterations=10000, alpha=1e-4, lambda_=lmd)\n",
    "    W0.append(W[0])\n",
    "    W1.append(W[1])\n",
    "    W2.append(W[2])\n",
    "    W3.append(W[3])"
   ]
  },
  {
   "cell_type": "code",
   "execution_count": 42,
   "metadata": {},
   "outputs": [
    {
     "data": {
      "text/plain": [
       "<matplotlib.legend.Legend at 0x18c92873e48>"
      ]
     },
     "execution_count": 42,
     "metadata": {},
     "output_type": "execute_result"
    },
    {
     "data": {
      "image/png": "[encoded data removed]",
      "text/plain": [
       "<Figure size 864x432 with 1 Axes>"
      ]
     },
     "metadata": {
      "needs_background": "light"
     },
     "output_type": "display_data"
    }
   ],
   "source": [
    "# Построим график\n",
    "plt.figure(figsize=(12, 6))\n",
    "plt.xlabel(\"Lambda L2\")\n",
    "plt.ylabel('W')\n",
    "plt.plot(lambda_, W1, label='W1')\n",
    "plt.plot(lambda_, W2, label='W2')\n",
    "plt.plot(lambda_, W3, label='W3')\n",
    "plt.legend()"
   ]
  },
  {
   "cell_type": "code",
   "execution_count": 43,
   "metadata": {},
   "outputs": [
    {
     "data": {
      "text/plain": [
       "<matplotlib.legend.Legend at 0x18c9290ca88>"
      ]
     },
     "execution_count": 43,
     "metadata": {},
     "output_type": "execute_result"
    },
    {
     "data": {
      "image/png": "[encoded data removed]",
      "text/plain": [
       "<Figure size 864x432 with 1 Axes>"
      ]
     },
     "metadata": {
      "needs_background": "light"
     },
     "output_type": "display_data"
    }
   ],
   "source": [
    "# Построим график для W0\n",
    "plt.figure(figsize=(12, 6))\n",
    "plt.xlabel(\"Lambda L2\")\n",
    "plt.ylabel('W')\n",
    "plt.plot(lambda_, W0, label='W0')\n",
    "plt.legend()"
   ]
  },
  {
   "cell_type": "markdown",
   "metadata": {},
   "source": [
    "__2__. Можно ли к одному и тому же признаку применить сразу и нормализацию, и стандартизацию?"
   ]
  },
  {
   "cell_type": "markdown",
   "metadata": {},
   "source": [
    "В принципе можно, но не имеет практического смысла. Итоговые значения признака будут зависеть от обработки, примененной последней."
   ]
  },
  {
   "cell_type": "markdown",
   "metadata": {},
   "source": [
    "__3__. Напишите функцию наподобие eval_model_reg2, но для применения L1-регуляризации."
   ]
  },
  {
   "cell_type": "code",
   "execution_count": 44,
   "metadata": {},
   "outputs": [],
   "source": [
    "# L1 регуляризация (Lasso)\n",
    "def eval_model_reg1(X, y, iterations, alpha=1e-2, lambda_=2):\n",
    "    np.random.seed(42)\n",
    "    W = np.random.randn(X.shape[0])\n",
    "    n = X.shape[1]\n",
    "    for i in range(1, iterations+1):\n",
    "        y_pred = np.dot(W, X)\n",
    "        err = calc_mse(y, y_pred)\n",
    "        W -= alpha * (1/n * 2 * np.dot((y_pred - y), X.T) + lambda_ * np.sign(W)) \n",
    "        #if flag and (i % (iterations / 10) == 0):\n",
    "    print(f'L1 = {lambda_:.4f}, W = {W}, Error = {err:.6f}')\n",
    "    return W"
   ]
  },
  {
   "cell_type": "code",
   "execution_count": 45,
   "metadata": {},
   "outputs": [
    {
     "name": "stdout",
     "output_type": "stream",
     "text": [
      "L1 = 2.0000, W = [5.55000000e+01 5.61449755e+00 2.89708850e-02 5.73738827e+00], Error = 27.061389\n"
     ]
    }
   ],
   "source": [
    "W = eval_model_reg1(X_st, y, iterations=6000, alpha=1e-2, lambda_=2)"
   ]
  },
  {
   "cell_type": "code",
   "execution_count": null,
   "metadata": {},
   "outputs": [],
   "source": []
  }
 ],
 "metadata": {
  "kernelspec": {
   "display_name": "Python 3",
   "language": "python",
   "name": "python3"
  },
  "language_info": {
   "codemirror_mode": {
    "name": "ipython",
    "version": 3
   },
   "file_extension": ".py",
   "mimetype": "text/x-python",
   "name": "python",
   "nbconvert_exporter": "python",
   "pygments_lexer": "ipython3",
   "version": "3.7.6"
  }
 },
 "nbformat": 4,
 "nbformat_minor": 4
}
