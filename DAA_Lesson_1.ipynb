{
 "cells": [
  {
   "cell_type": "markdown",
   "metadata": {},
   "source": [
    "__1__. Подберите скорость обучения (alpha) и количество итераций"
   ]
  },
  {
   "cell_type": "code",
   "execution_count": 1,
   "metadata": {},
   "outputs": [],
   "source": [
    "import numpy as np"
   ]
  },
  {
   "cell_type": "markdown",
   "metadata": {},
   "source": [
    "Предсказание баллов ЕГЭ ученика в зависимости от кол-ва лет стажа его репетитора"
   ]
  },
  {
   "cell_type": "code",
   "execution_count": 2,
   "metadata": {},
   "outputs": [
    {
     "data": {
      "text/plain": [
       "array([[ 1,  1,  1,  1,  1,  1,  1,  1,  1,  1],\n",
       "       [ 1,  1,  2,  5,  3,  0,  5, 10,  1,  2]])"
      ]
     },
     "execution_count": 2,
     "metadata": {},
     "output_type": "execute_result"
    }
   ],
   "source": [
    "X = np.array([[1, 1, 1, 1, 1, 1, 1, 1, 1, 1],\n",
    "              [1, 1, 2, 5, 3, 0, 5, 10, 1, 2]])\n",
    "X"
   ]
  },
  {
   "cell_type": "code",
   "execution_count": 3,
   "metadata": {},
   "outputs": [],
   "source": [
    "y = [45, 55, 50, 55, 60, 35, 75, 80, 50, 60]"
   ]
  },
  {
   "cell_type": "code",
   "execution_count": 4,
   "metadata": {},
   "outputs": [],
   "source": [
    "def calc_mse(y, y_pred):\n",
    "    err = np.mean((y - y_pred)**2) # <=> 1/n * np.sum((y_pred - y)**2)\n",
    "    return err"
   ]
  },
  {
   "cell_type": "code",
   "execution_count": 5,
   "metadata": {},
   "outputs": [
    {
     "name": "stdout",
     "output_type": "stream",
     "text": [
      "Number of objects = 10        \n",
      "Learning rate = 0.055        \n",
      "Initial weights = [1.  0.5] \n",
      "\n",
      "Iteration #0: W_new = [ 6.94  21.235], MSE = 3047.75\n",
      "Iteration #50: W_new = [41.1878031   4.51512452], MSE = 51.731698\n",
      "Iteration #100: W_new = [44.59596824  3.89709834], MSE = 44.08032\n",
      "Iteration #150: W_new = [44.99415142  3.82489396], MSE = 43.971126\n",
      "Iteration #200: W_new = [45.05053954  3.81466884], MSE = 43.968822\n",
      "Iteration #250: W_new = [45.06004142  3.81294582], MSE = 43.968753\n",
      "Iteration #300: W_new = [45.06191523  3.81260604], MSE = 43.96875\n"
     ]
    }
   ],
   "source": [
    "n = X.shape[1]\n",
    "alpha = 0.055\n",
    "W = np.array([1, 0.5])\n",
    "print(f'Number of objects = {n} \\\n",
    "       \\nLearning rate = {alpha} \\\n",
    "       \\nInitial weights = {W} \\n')\n",
    "\n",
    "for i in range(350):\n",
    "    y_pred = np.dot(W, X)\n",
    "    err = calc_mse(y, y_pred)\n",
    "    for k in range(W.shape[0]):\n",
    "        W[k] -= alpha * (1/n * 2 * np.sum(X[k] * (y_pred - y)))\n",
    "    if i % 50 == 0:\n",
    "        alpha /= 1.1\n",
    "        print(f'Iteration #{i}: W_new = {W}, MSE = {round(err,6)}')"
   ]
  },
  {
   "cell_type": "code",
   "execution_count": 6,
   "metadata": {},
   "outputs": [],
   "source": [
    "import matplotlib.pyplot as plt"
   ]
  },
  {
   "cell_type": "code",
   "execution_count": 7,
   "metadata": {},
   "outputs": [
    {
     "data": {
      "image/png": "[encoded data removed]",
      "text/plain": [
       "<Figure size 432x288 with 1 Axes>"
      ]
     },
     "metadata": {
      "needs_background": "light"
     },
     "output_type": "display_data"
    }
   ],
   "source": [
    "plt.scatter(X[1], y, color='g')\n",
    "plt.plot(X[1], y_pred)\n",
    "plt.xlabel('Стаж репетитора')\n",
    "plt.ylabel('Оценка ученика')\n",
    "plt.show()"
   ]
  },
  {
   "cell_type": "markdown",
   "metadata": {},
   "source": [
    "__2__. Избавляемся от итераций по весам"
   ]
  },
  {
   "cell_type": "code",
   "execution_count": 8,
   "metadata": {},
   "outputs": [
    {
     "name": "stdout",
     "output_type": "stream",
     "text": [
      "Number of objects = 10        \n",
      "Learning rate = 0.055        \n",
      "Initial weights = [1.  0.5] \n",
      "\n",
      "Iteration #0: W_new = [ 6.94  21.235], MSE = 3047.75\n",
      "Iteration #50: W_new = [42.06149781  4.63338341], MSE = 50.327854\n",
      "Iteration #100: W_new = [44.83109194  3.86174724], MSE = 43.998058\n",
      "Iteration #150: W_new = [45.04477934  3.81590517], MSE = 43.968915\n",
      "Iteration #200: W_new = [45.06114621  3.81275054], MSE = 43.968751\n",
      "Iteration #250: W_new = [45.06239666  3.81251887], MSE = 43.96875\n",
      "Iteration #300: W_new = [45.06249211  3.81250143], MSE = 43.96875\n"
     ]
    }
   ],
   "source": [
    "n = X.shape[1]\n",
    "alpha = 0.055\n",
    "W = np.array([1, 0.5])\n",
    "print(f'Number of objects = {n} \\\n",
    "       \\nLearning rate = {alpha} \\\n",
    "       \\nInitial weights = {W} \\n')\n",
    "\n",
    "for i in range(350):\n",
    "    y_pred = np.dot(W, X)\n",
    "    err = calc_mse(y, y_pred)\n",
    "#     for k in range(W.shape[0]):\n",
    "#         W[k] -= alpha * (1/n * 2 * np.sum(X[k] * (y_pred - y)))\n",
    "    # W -= alpha * (1/n * 2 * np.sum(X * (y_pred - y)))\n",
    "    W -= alpha * (1/n * 2 * X @ (y_pred - y))\n",
    "    W_pred = W\n",
    "    if i % 50 == 0:\n",
    "        print(f'Iteration #{i}: W_new = {W}, MSE = {round(err,6)}')"
   ]
  },
  {
   "cell_type": "markdown",
   "metadata": {},
   "source": [
    "__3__. Задайте условие остановки алгоритма - когда ошибка за итерацию начинает изменяться ниже определенного порога"
   ]
  },
  {
   "cell_type": "code",
   "execution_count": 9,
   "metadata": {},
   "outputs": [
    {
     "name": "stdout",
     "output_type": "stream",
     "text": [
      "Number of objects = 10        \n",
      "Learning rate = 0.055        \n",
      "Tolerance = 1e-06        \n",
      "Initial weights = [1.  0.5] \n",
      "\n",
      "Iteration № 180: W_new = [45.05850408  3.81320133], MSE = 43.968758\n"
     ]
    }
   ],
   "source": [
    "n = X.shape[1]\n",
    "alpha = 0.055\n",
    "tolerance=0.000001\n",
    "W = np.array([1, 0.5])\n",
    "print(f'Number of objects = {n} \\\n",
    "       \\nLearning rate = {alpha} \\\n",
    "       \\nTolerance = {tolerance} \\\n",
    "       \\nInitial weights = {W} \\n')\n",
    "errors = [1,0]\n",
    "i = 0\n",
    "while abs(errors[-1]-errors[-2]) > tolerance:\n",
    "    y_pred = np.dot(W, X)\n",
    "    err = calc_mse(y, y_pred)\n",
    "    errors.append(err)\n",
    "    W -= alpha * (1/n * 2 * X @ (y_pred - y))\n",
    "    W_pred = W\n",
    "    i += 1\n",
    "\n",
    "print(f'Iteration № {i}: W_new = {W}, MSE = {round(err,6)}')"
   ]
  },
  {
   "cell_type": "code",
   "execution_count": null,
   "metadata": {},
   "outputs": [],
   "source": []
  }
 ],
 "metadata": {
  "kernelspec": {
   "display_name": "Python 3",
   "language": "python",
   "name": "python3"
  },
  "language_info": {
   "codemirror_mode": {
    "name": "ipython",
    "version": 3
   },
   "file_extension": ".py",
   "mimetype": "text/x-python",
   "name": "python",
   "nbconvert_exporter": "python",
   "pygments_lexer": "ipython3",
   "version": "3.7.6"
  }
 },
 "nbformat": 4,
 "nbformat_minor": 4
}
