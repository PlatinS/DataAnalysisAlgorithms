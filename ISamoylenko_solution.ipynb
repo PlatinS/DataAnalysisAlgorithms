{
 "cells": [
  {
   "cell_type": "markdown",
   "metadata": {},
   "source": [
    "### Прогнозирование невыполнения долговых обязательств клиентов банка по текущему кредиту "
   ]
  },
  {
   "cell_type": "code",
   "execution_count": 1,
   "metadata": {},
   "outputs": [
    {
     "data": {
      "text/html": [
       "<img src=\"kredit.jpg\"/>"
      ],
      "text/plain": [
       "<IPython.core.display.Image object>"
      ]
     },
     "execution_count": 1,
     "metadata": {},
     "output_type": "execute_result"
    }
   ],
   "source": [
    "from IPython.display import Image\n",
    "Image(url= \"kredit.jpg\")"
   ]
  },
  {
   "cell_type": "markdown",
   "metadata": {},
   "source": [
    "#### Целевая переменная:  Credit Default - факт невыполнения кредитных обязательств"
   ]
  },
  {
   "cell_type": "markdown",
   "metadata": {},
   "source": [
    "#### __1__. Imports"
   ]
  },
  {
   "cell_type": "code",
   "execution_count": 2,
   "metadata": {},
   "outputs": [],
   "source": [
    "import pandas as pd\n",
    "import numpy as np\n",
    "import itertools\n",
    "import datetime\n",
    "import math\n",
    "import scikitplot as skplt\n",
    "import matplotlib\n",
    "import matplotlib.image as img\n",
    "import matplotlib.pyplot as plt\n",
    "import matplotlib.ticker as ticker\n",
    "%matplotlib inline\n",
    "matplotlib.rcParams.update({'font.size': 12})\n",
    "matplotlib.rcParams.update({'figure.figsize': (12,6)})\n",
    "matplotlib.rcParams[\"axes.grid\"] = True"
   ]
  },
  {
   "cell_type": "code",
   "execution_count": 3,
   "metadata": {},
   "outputs": [],
   "source": [
    "import seaborn as sns\n",
    "sns.set_style('whitegrid')\n",
    "sns.set_context('notebook')\n",
    "sns.set_palette('muted')"
   ]
  },
  {
   "cell_type": "code",
   "execution_count": 4,
   "metadata": {},
   "outputs": [
    {
     "name": "stdout",
     "output_type": "stream",
     "text": [
      "pandas    :  0.25.1\n",
      "numpy     :  1.17.3\n",
      "matplotlib:  3.1.1\n",
      "seaborn   :  0.9.0\n"
     ]
    }
   ],
   "source": [
    "print('pandas    : ',pd.__version__)\n",
    "print('numpy     : ',np.__version__)\n",
    "print('matplotlib: ',matplotlib.__version__)\n",
    "print('seaborn   : ',sns.__version__)"
   ]
  },
  {
   "cell_type": "code",
   "execution_count": 5,
   "metadata": {},
   "outputs": [],
   "source": [
    "from tqdm import tqdm\n",
    "from sklearn.feature_selection import f_classif\n",
    "from sklearn.feature_selection import SelectKBest\n",
    "from sklearn import preprocessing\n",
    "from sklearn.preprocessing import StandardScaler\n",
    "from catboost import CatBoostClassifier\n",
    "\n",
    "from sklearn.metrics import accuracy_score\n",
    "from sklearn.metrics import classification_report, f1_score, precision_score, recall_score\n",
    "from sklearn.model_selection import train_test_split"
   ]
  },
  {
   "cell_type": "code",
   "execution_count": 6,
   "metadata": {},
   "outputs": [],
   "source": [
    "pd.set_option('display.float_format', '{:.4f}'.format)"
   ]
  },
  {
   "cell_type": "markdown",
   "metadata": {},
   "source": [
    "#### __2__. Data Loading and Analysis"
   ]
  },
  {
   "cell_type": "code",
   "execution_count": 7,
   "metadata": {},
   "outputs": [],
   "source": [
    "df = pd.read_csv('course_project_train.csv')"
   ]
  },
  {
   "cell_type": "code",
   "execution_count": 8,
   "metadata": {},
   "outputs": [
    {
     "data": {
      "text/plain": [
       "(7500, 17)"
      ]
     },
     "execution_count": 8,
     "metadata": {},
     "output_type": "execute_result"
    }
   ],
   "source": [
    "df.shape"
   ]
  },
  {
   "cell_type": "code",
   "execution_count": 9,
   "metadata": {},
   "outputs": [
    {
     "name": "stdout",
     "output_type": "stream",
     "text": [
      "<class 'pandas.core.frame.DataFrame'>\n",
      "RangeIndex: 7500 entries, 0 to 7499\n",
      "Data columns (total 17 columns):\n",
      "Home Ownership                  7500 non-null object\n",
      "Annual Income                   5943 non-null float64\n",
      "Years in current job            7129 non-null object\n",
      "Tax Liens                       7500 non-null float64\n",
      "Number of Open Accounts         7500 non-null float64\n",
      "Years of Credit History         7500 non-null float64\n",
      "Maximum Open Credit             7500 non-null float64\n",
      "Number of Credit Problems       7500 non-null float64\n",
      "Months since last delinquent    3419 non-null float64\n",
      "Bankruptcies                    7486 non-null float64\n",
      "Purpose                         7500 non-null object\n",
      "Term                            7500 non-null object\n",
      "Current Loan Amount             7500 non-null float64\n",
      "Current Credit Balance          7500 non-null float64\n",
      "Monthly Debt                    7500 non-null float64\n",
      "Credit Score                    5943 non-null float64\n",
      "Credit Default                  7500 non-null int64\n",
      "dtypes: float64(12), int64(1), object(4)\n",
      "memory usage: 996.2+ KB\n"
     ]
    }
   ],
   "source": [
    "df.info()"
   ]
  },
  {
   "cell_type": "code",
   "execution_count": 10,
   "metadata": {},
   "outputs": [
    {
     "data": {
      "text/plain": [
       "Home Ownership                     0\n",
       "Annual Income                   1557\n",
       "Years in current job             371\n",
       "Tax Liens                          0\n",
       "Number of Open Accounts            0\n",
       "Years of Credit History            0\n",
       "Maximum Open Credit                0\n",
       "Number of Credit Problems          0\n",
       "Months since last delinquent    4081\n",
       "Bankruptcies                      14\n",
       "Purpose                            0\n",
       "Term                               0\n",
       "Current Loan Amount                0\n",
       "Current Credit Balance             0\n",
       "Monthly Debt                       0\n",
       "Credit Score                    1557\n",
       "Credit Default                     0\n",
       "dtype: int64"
      ]
     },
     "execution_count": 10,
     "metadata": {},
     "output_type": "execute_result"
    }
   ],
   "source": [
    "# Пропущенные значения\n",
    "df.isnull().sum()"
   ]
  },
  {
   "cell_type": "markdown",
   "metadata": {},
   "source": [
    "Annual Income (годовой доход) и Credit Score (кредитный рейтинг) имеют равное кол-во пропущенных значений - 1557"
   ]
  },
  {
   "cell_type": "code",
   "execution_count": 11,
   "metadata": {},
   "outputs": [
    {
     "data": {
      "text/html": [
       "<div>\n",
       "<style scoped>\n",
       "    .dataframe tbody tr th:only-of-type {\n",
       "        vertical-align: middle;\n",
       "    }\n",
       "\n",
       "    .dataframe tbody tr th {\n",
       "        vertical-align: top;\n",
       "    }\n",
       "\n",
       "    .dataframe thead th {\n",
       "        text-align: right;\n",
       "    }\n",
       "</style>\n",
       "<table border=\"1\" class=\"dataframe\">\n",
       "  <thead>\n",
       "    <tr style=\"text-align: right;\">\n",
       "      <th></th>\n",
       "      <th>count</th>\n",
       "      <th>mean</th>\n",
       "      <th>std</th>\n",
       "      <th>min</th>\n",
       "      <th>25%</th>\n",
       "      <th>50%</th>\n",
       "      <th>75%</th>\n",
       "      <th>max</th>\n",
       "    </tr>\n",
       "  </thead>\n",
       "  <tbody>\n",
       "    <tr>\n",
       "      <td>Annual Income</td>\n",
       "      <td>5943.0000</td>\n",
       "      <td>1366391.7202</td>\n",
       "      <td>845339.1996</td>\n",
       "      <td>164597.0000</td>\n",
       "      <td>844341.0000</td>\n",
       "      <td>1168386.0000</td>\n",
       "      <td>1640137.0000</td>\n",
       "      <td>10149344.0000</td>\n",
       "    </tr>\n",
       "    <tr>\n",
       "      <td>Tax Liens</td>\n",
       "      <td>7500.0000</td>\n",
       "      <td>0.0301</td>\n",
       "      <td>0.2716</td>\n",
       "      <td>0.0000</td>\n",
       "      <td>0.0000</td>\n",
       "      <td>0.0000</td>\n",
       "      <td>0.0000</td>\n",
       "      <td>7.0000</td>\n",
       "    </tr>\n",
       "    <tr>\n",
       "      <td>Number of Open Accounts</td>\n",
       "      <td>7500.0000</td>\n",
       "      <td>11.1309</td>\n",
       "      <td>4.9089</td>\n",
       "      <td>2.0000</td>\n",
       "      <td>8.0000</td>\n",
       "      <td>10.0000</td>\n",
       "      <td>14.0000</td>\n",
       "      <td>43.0000</td>\n",
       "    </tr>\n",
       "    <tr>\n",
       "      <td>Years of Credit History</td>\n",
       "      <td>7500.0000</td>\n",
       "      <td>18.3175</td>\n",
       "      <td>7.0419</td>\n",
       "      <td>4.0000</td>\n",
       "      <td>13.5000</td>\n",
       "      <td>17.0000</td>\n",
       "      <td>21.8000</td>\n",
       "      <td>57.7000</td>\n",
       "    </tr>\n",
       "    <tr>\n",
       "      <td>Maximum Open Credit</td>\n",
       "      <td>7500.0000</td>\n",
       "      <td>945153.7275</td>\n",
       "      <td>16026216.6709</td>\n",
       "      <td>0.0000</td>\n",
       "      <td>279229.5000</td>\n",
       "      <td>478159.0000</td>\n",
       "      <td>793501.5000</td>\n",
       "      <td>1304726170.0000</td>\n",
       "    </tr>\n",
       "    <tr>\n",
       "      <td>Number of Credit Problems</td>\n",
       "      <td>7500.0000</td>\n",
       "      <td>0.1700</td>\n",
       "      <td>0.4986</td>\n",
       "      <td>0.0000</td>\n",
       "      <td>0.0000</td>\n",
       "      <td>0.0000</td>\n",
       "      <td>0.0000</td>\n",
       "      <td>7.0000</td>\n",
       "    </tr>\n",
       "    <tr>\n",
       "      <td>Months since last delinquent</td>\n",
       "      <td>3419.0000</td>\n",
       "      <td>34.6926</td>\n",
       "      <td>21.6888</td>\n",
       "      <td>0.0000</td>\n",
       "      <td>16.0000</td>\n",
       "      <td>32.0000</td>\n",
       "      <td>50.0000</td>\n",
       "      <td>118.0000</td>\n",
       "    </tr>\n",
       "    <tr>\n",
       "      <td>Bankruptcies</td>\n",
       "      <td>7486.0000</td>\n",
       "      <td>0.1172</td>\n",
       "      <td>0.3472</td>\n",
       "      <td>0.0000</td>\n",
       "      <td>0.0000</td>\n",
       "      <td>0.0000</td>\n",
       "      <td>0.0000</td>\n",
       "      <td>4.0000</td>\n",
       "    </tr>\n",
       "    <tr>\n",
       "      <td>Current Loan Amount</td>\n",
       "      <td>7500.0000</td>\n",
       "      <td>11873177.4451</td>\n",
       "      <td>31926122.9747</td>\n",
       "      <td>11242.0000</td>\n",
       "      <td>180169.0000</td>\n",
       "      <td>309573.0000</td>\n",
       "      <td>519882.0000</td>\n",
       "      <td>99999999.0000</td>\n",
       "    </tr>\n",
       "    <tr>\n",
       "      <td>Current Credit Balance</td>\n",
       "      <td>7500.0000</td>\n",
       "      <td>289833.2352</td>\n",
       "      <td>317871.3824</td>\n",
       "      <td>0.0000</td>\n",
       "      <td>114256.5000</td>\n",
       "      <td>209323.0000</td>\n",
       "      <td>360406.2500</td>\n",
       "      <td>6506797.0000</td>\n",
       "    </tr>\n",
       "    <tr>\n",
       "      <td>Monthly Debt</td>\n",
       "      <td>7500.0000</td>\n",
       "      <td>18314.4541</td>\n",
       "      <td>11926.7647</td>\n",
       "      <td>0.0000</td>\n",
       "      <td>10067.5000</td>\n",
       "      <td>16076.5000</td>\n",
       "      <td>23818.0000</td>\n",
       "      <td>136679.0000</td>\n",
       "    </tr>\n",
       "    <tr>\n",
       "      <td>Credit Score</td>\n",
       "      <td>5943.0000</td>\n",
       "      <td>1151.0875</td>\n",
       "      <td>1604.4514</td>\n",
       "      <td>585.0000</td>\n",
       "      <td>711.0000</td>\n",
       "      <td>731.0000</td>\n",
       "      <td>743.0000</td>\n",
       "      <td>7510.0000</td>\n",
       "    </tr>\n",
       "    <tr>\n",
       "      <td>Credit Default</td>\n",
       "      <td>7500.0000</td>\n",
       "      <td>0.2817</td>\n",
       "      <td>0.4499</td>\n",
       "      <td>0.0000</td>\n",
       "      <td>0.0000</td>\n",
       "      <td>0.0000</td>\n",
       "      <td>1.0000</td>\n",
       "      <td>1.0000</td>\n",
       "    </tr>\n",
       "  </tbody>\n",
       "</table>\n",
       "</div>"
      ],
      "text/plain": [
       "                                 count          mean           std  \\\n",
       "Annual Income                5943.0000  1366391.7202   845339.1996   \n",
       "Tax Liens                    7500.0000        0.0301        0.2716   \n",
       "Number of Open Accounts      7500.0000       11.1309        4.9089   \n",
       "Years of Credit History      7500.0000       18.3175        7.0419   \n",
       "Maximum Open Credit          7500.0000   945153.7275 16026216.6709   \n",
       "Number of Credit Problems    7500.0000        0.1700        0.4986   \n",
       "Months since last delinquent 3419.0000       34.6926       21.6888   \n",
       "Bankruptcies                 7486.0000        0.1172        0.3472   \n",
       "Current Loan Amount          7500.0000 11873177.4451 31926122.9747   \n",
       "Current Credit Balance       7500.0000   289833.2352   317871.3824   \n",
       "Monthly Debt                 7500.0000    18314.4541    11926.7647   \n",
       "Credit Score                 5943.0000     1151.0875     1604.4514   \n",
       "Credit Default               7500.0000        0.2817        0.4499   \n",
       "\n",
       "                                     min         25%          50%  \\\n",
       "Annual Income                164597.0000 844341.0000 1168386.0000   \n",
       "Tax Liens                         0.0000      0.0000       0.0000   \n",
       "Number of Open Accounts           2.0000      8.0000      10.0000   \n",
       "Years of Credit History           4.0000     13.5000      17.0000   \n",
       "Maximum Open Credit               0.0000 279229.5000  478159.0000   \n",
       "Number of Credit Problems         0.0000      0.0000       0.0000   \n",
       "Months since last delinquent      0.0000     16.0000      32.0000   \n",
       "Bankruptcies                      0.0000      0.0000       0.0000   \n",
       "Current Loan Amount           11242.0000 180169.0000  309573.0000   \n",
       "Current Credit Balance            0.0000 114256.5000  209323.0000   \n",
       "Monthly Debt                      0.0000  10067.5000   16076.5000   \n",
       "Credit Score                    585.0000    711.0000     731.0000   \n",
       "Credit Default                    0.0000      0.0000       0.0000   \n",
       "\n",
       "                                      75%             max  \n",
       "Annual Income                1640137.0000   10149344.0000  \n",
       "Tax Liens                          0.0000          7.0000  \n",
       "Number of Open Accounts           14.0000         43.0000  \n",
       "Years of Credit History           21.8000         57.7000  \n",
       "Maximum Open Credit           793501.5000 1304726170.0000  \n",
       "Number of Credit Problems          0.0000          7.0000  \n",
       "Months since last delinquent      50.0000        118.0000  \n",
       "Bankruptcies                       0.0000          4.0000  \n",
       "Current Loan Amount           519882.0000   99999999.0000  \n",
       "Current Credit Balance        360406.2500    6506797.0000  \n",
       "Monthly Debt                   23818.0000     136679.0000  \n",
       "Credit Score                     743.0000       7510.0000  \n",
       "Credit Default                     1.0000          1.0000  "
      ]
     },
     "execution_count": 11,
     "metadata": {},
     "output_type": "execute_result"
    }
   ],
   "source": [
    "df.describe().T"
   ]
  },
  {
   "cell_type": "code",
   "execution_count": 12,
   "metadata": {},
   "outputs": [
    {
     "data": {
      "text/plain": [
       "0    5387\n",
       "1    2113\n",
       "Name: Credit Default, dtype: int64"
      ]
     },
     "execution_count": 12,
     "metadata": {},
     "output_type": "execute_result"
    }
   ],
   "source": [
    "# Обзор целевой переменной\n",
    "df['Credit Default'].value_counts()"
   ]
  },
  {
   "cell_type": "code",
   "execution_count": 13,
   "metadata": {},
   "outputs": [
    {
     "data": {
      "text/html": [
       "<div>\n",
       "<style scoped>\n",
       "    .dataframe tbody tr th:only-of-type {\n",
       "        vertical-align: middle;\n",
       "    }\n",
       "\n",
       "    .dataframe tbody tr th {\n",
       "        vertical-align: top;\n",
       "    }\n",
       "\n",
       "    .dataframe thead th {\n",
       "        text-align: right;\n",
       "    }\n",
       "</style>\n",
       "<table border=\"1\" class=\"dataframe\">\n",
       "  <thead>\n",
       "    <tr style=\"text-align: right;\">\n",
       "      <th></th>\n",
       "      <th>44</th>\n",
       "      <th>617</th>\n",
       "      <th>2617</th>\n",
       "    </tr>\n",
       "  </thead>\n",
       "  <tbody>\n",
       "    <tr>\n",
       "      <td>Home Ownership</td>\n",
       "      <td>Have Mortgage</td>\n",
       "      <td>Home Mortgage</td>\n",
       "      <td>Home Mortgage</td>\n",
       "    </tr>\n",
       "    <tr>\n",
       "      <td>Annual Income</td>\n",
       "      <td>1334256.0000</td>\n",
       "      <td>NaN</td>\n",
       "      <td>3217802.0000</td>\n",
       "    </tr>\n",
       "    <tr>\n",
       "      <td>Years in current job</td>\n",
       "      <td>10+ years</td>\n",
       "      <td>3 years</td>\n",
       "      <td>10+ years</td>\n",
       "    </tr>\n",
       "    <tr>\n",
       "      <td>Tax Liens</td>\n",
       "      <td>0.0000</td>\n",
       "      <td>0.0000</td>\n",
       "      <td>0.0000</td>\n",
       "    </tr>\n",
       "    <tr>\n",
       "      <td>Number of Open Accounts</td>\n",
       "      <td>17.0000</td>\n",
       "      <td>13.0000</td>\n",
       "      <td>12.0000</td>\n",
       "    </tr>\n",
       "    <tr>\n",
       "      <td>Years of Credit History</td>\n",
       "      <td>15.4000</td>\n",
       "      <td>27.5000</td>\n",
       "      <td>35.5000</td>\n",
       "    </tr>\n",
       "    <tr>\n",
       "      <td>Maximum Open Credit</td>\n",
       "      <td>380052288.0000</td>\n",
       "      <td>1304726170.0000</td>\n",
       "      <td>265512874.0000</td>\n",
       "    </tr>\n",
       "    <tr>\n",
       "      <td>Number of Credit Problems</td>\n",
       "      <td>1.0000</td>\n",
       "      <td>0.0000</td>\n",
       "      <td>0.0000</td>\n",
       "    </tr>\n",
       "    <tr>\n",
       "      <td>Months since last delinquent</td>\n",
       "      <td>35.0000</td>\n",
       "      <td>NaN</td>\n",
       "      <td>NaN</td>\n",
       "    </tr>\n",
       "    <tr>\n",
       "      <td>Bankruptcies</td>\n",
       "      <td>0.0000</td>\n",
       "      <td>0.0000</td>\n",
       "      <td>0.0000</td>\n",
       "    </tr>\n",
       "    <tr>\n",
       "      <td>Purpose</td>\n",
       "      <td>take a trip</td>\n",
       "      <td>debt consolidation</td>\n",
       "      <td>other</td>\n",
       "    </tr>\n",
       "    <tr>\n",
       "      <td>Term</td>\n",
       "      <td>Short Term</td>\n",
       "      <td>Short Term</td>\n",
       "      <td>Short Term</td>\n",
       "    </tr>\n",
       "    <tr>\n",
       "      <td>Current Loan Amount</td>\n",
       "      <td>33110.0000</td>\n",
       "      <td>529892.0000</td>\n",
       "      <td>50116.0000</td>\n",
       "    </tr>\n",
       "    <tr>\n",
       "      <td>Current Credit Balance</td>\n",
       "      <td>656450.0000</td>\n",
       "      <td>1126814.0000</td>\n",
       "      <td>1834450.0000</td>\n",
       "    </tr>\n",
       "    <tr>\n",
       "      <td>Monthly Debt</td>\n",
       "      <td>34357.0000</td>\n",
       "      <td>5492.0000</td>\n",
       "      <td>20272.0000</td>\n",
       "    </tr>\n",
       "    <tr>\n",
       "      <td>Credit Score</td>\n",
       "      <td>729.0000</td>\n",
       "      <td>NaN</td>\n",
       "      <td>750.0000</td>\n",
       "    </tr>\n",
       "    <tr>\n",
       "      <td>Credit Default</td>\n",
       "      <td>0</td>\n",
       "      <td>0</td>\n",
       "      <td>0</td>\n",
       "    </tr>\n",
       "  </tbody>\n",
       "</table>\n",
       "</div>"
      ],
      "text/plain": [
       "                                       44                  617            2617\n",
       "Home Ownership                Have Mortgage       Home Mortgage  Home Mortgage\n",
       "Annual Income                  1334256.0000                 NaN   3217802.0000\n",
       "Years in current job              10+ years             3 years      10+ years\n",
       "Tax Liens                            0.0000              0.0000         0.0000\n",
       "Number of Open Accounts             17.0000             13.0000        12.0000\n",
       "Years of Credit History             15.4000             27.5000        35.5000\n",
       "Maximum Open Credit          380052288.0000     1304726170.0000 265512874.0000\n",
       "Number of Credit Problems            1.0000              0.0000         0.0000\n",
       "Months since last delinquent        35.0000                 NaN            NaN\n",
       "Bankruptcies                         0.0000              0.0000         0.0000\n",
       "Purpose                         take a trip  debt consolidation          other\n",
       "Term                             Short Term          Short Term     Short Term\n",
       "Current Loan Amount              33110.0000         529892.0000     50116.0000\n",
       "Current Credit Balance          656450.0000        1126814.0000   1834450.0000\n",
       "Monthly Debt                     34357.0000           5492.0000     20272.0000\n",
       "Credit Score                       729.0000                 NaN       750.0000\n",
       "Credit Default                            0                   0              0"
      ]
     },
     "execution_count": 13,
     "metadata": {},
     "output_type": "execute_result"
    }
   ],
   "source": [
    "# Наибольший открытый кредит > 100 млн.\n",
    "df.loc[df['Maximum Open Credit'] > 100000000].T"
   ]
  },
  {
   "cell_type": "code",
   "execution_count": 14,
   "metadata": {
    "scrolled": true
   },
   "outputs": [
    {
     "data": {
      "text/html": [
       "<div>\n",
       "<style scoped>\n",
       "    .dataframe tbody tr th:only-of-type {\n",
       "        vertical-align: middle;\n",
       "    }\n",
       "\n",
       "    .dataframe tbody tr th {\n",
       "        vertical-align: top;\n",
       "    }\n",
       "\n",
       "    .dataframe thead th {\n",
       "        text-align: right;\n",
       "    }\n",
       "</style>\n",
       "<table border=\"1\" class=\"dataframe\">\n",
       "  <thead>\n",
       "    <tr style=\"text-align: right;\">\n",
       "      <th></th>\n",
       "      <th>Home Ownership</th>\n",
       "      <th>Annual Income</th>\n",
       "      <th>Years in current job</th>\n",
       "      <th>Tax Liens</th>\n",
       "      <th>Number of Open Accounts</th>\n",
       "      <th>Years of Credit History</th>\n",
       "      <th>Maximum Open Credit</th>\n",
       "      <th>Number of Credit Problems</th>\n",
       "      <th>Months since last delinquent</th>\n",
       "      <th>Bankruptcies</th>\n",
       "      <th>Purpose</th>\n",
       "      <th>Term</th>\n",
       "      <th>Current Loan Amount</th>\n",
       "      <th>Current Credit Balance</th>\n",
       "      <th>Monthly Debt</th>\n",
       "      <th>Credit Score</th>\n",
       "      <th>Credit Default</th>\n",
       "    </tr>\n",
       "  </thead>\n",
       "  <tbody>\n",
       "    <tr>\n",
       "      <td>0</td>\n",
       "      <td>Own Home</td>\n",
       "      <td>482087.0000</td>\n",
       "      <td>NaN</td>\n",
       "      <td>0.0000</td>\n",
       "      <td>11.0000</td>\n",
       "      <td>26.3000</td>\n",
       "      <td>685960.0000</td>\n",
       "      <td>1.0000</td>\n",
       "      <td>nan</td>\n",
       "      <td>1.0000</td>\n",
       "      <td>debt consolidation</td>\n",
       "      <td>Short Term</td>\n",
       "      <td>99999999.0000</td>\n",
       "      <td>47386.0000</td>\n",
       "      <td>7914.0000</td>\n",
       "      <td>749.0000</td>\n",
       "      <td>0</td>\n",
       "    </tr>\n",
       "    <tr>\n",
       "      <td>2</td>\n",
       "      <td>Home Mortgage</td>\n",
       "      <td>751412.0000</td>\n",
       "      <td>8 years</td>\n",
       "      <td>0.0000</td>\n",
       "      <td>11.0000</td>\n",
       "      <td>35.0000</td>\n",
       "      <td>1182434.0000</td>\n",
       "      <td>0.0000</td>\n",
       "      <td>nan</td>\n",
       "      <td>0.0000</td>\n",
       "      <td>debt consolidation</td>\n",
       "      <td>Short Term</td>\n",
       "      <td>99999999.0000</td>\n",
       "      <td>308389.0000</td>\n",
       "      <td>13651.0000</td>\n",
       "      <td>742.0000</td>\n",
       "      <td>0</td>\n",
       "    </tr>\n",
       "    <tr>\n",
       "      <td>6</td>\n",
       "      <td>Home Mortgage</td>\n",
       "      <td>1511108.0000</td>\n",
       "      <td>10+ years</td>\n",
       "      <td>0.0000</td>\n",
       "      <td>9.0000</td>\n",
       "      <td>20.3000</td>\n",
       "      <td>388124.0000</td>\n",
       "      <td>0.0000</td>\n",
       "      <td>73.0000</td>\n",
       "      <td>0.0000</td>\n",
       "      <td>home improvements</td>\n",
       "      <td>Short Term</td>\n",
       "      <td>99999999.0000</td>\n",
       "      <td>51623.0000</td>\n",
       "      <td>2317.0000</td>\n",
       "      <td>745.0000</td>\n",
       "      <td>0</td>\n",
       "    </tr>\n",
       "    <tr>\n",
       "      <td>22</td>\n",
       "      <td>Rent</td>\n",
       "      <td>463790.0000</td>\n",
       "      <td>NaN</td>\n",
       "      <td>0.0000</td>\n",
       "      <td>6.0000</td>\n",
       "      <td>28.3000</td>\n",
       "      <td>288442.0000</td>\n",
       "      <td>0.0000</td>\n",
       "      <td>nan</td>\n",
       "      <td>0.0000</td>\n",
       "      <td>debt consolidation</td>\n",
       "      <td>Short Term</td>\n",
       "      <td>99999999.0000</td>\n",
       "      <td>157700.0000</td>\n",
       "      <td>5063.0000</td>\n",
       "      <td>738.0000</td>\n",
       "      <td>0</td>\n",
       "    </tr>\n",
       "    <tr>\n",
       "      <td>27</td>\n",
       "      <td>Rent</td>\n",
       "      <td>1004055.0000</td>\n",
       "      <td>8 years</td>\n",
       "      <td>0.0000</td>\n",
       "      <td>7.0000</td>\n",
       "      <td>14.5000</td>\n",
       "      <td>328394.0000</td>\n",
       "      <td>0.0000</td>\n",
       "      <td>nan</td>\n",
       "      <td>0.0000</td>\n",
       "      <td>debt consolidation</td>\n",
       "      <td>Short Term</td>\n",
       "      <td>99999999.0000</td>\n",
       "      <td>195966.0000</td>\n",
       "      <td>6041.0000</td>\n",
       "      <td>734.0000</td>\n",
       "      <td>0</td>\n",
       "    </tr>\n",
       "    <tr>\n",
       "      <td>...</td>\n",
       "      <td>...</td>\n",
       "      <td>...</td>\n",
       "      <td>...</td>\n",
       "      <td>...</td>\n",
       "      <td>...</td>\n",
       "      <td>...</td>\n",
       "      <td>...</td>\n",
       "      <td>...</td>\n",
       "      <td>...</td>\n",
       "      <td>...</td>\n",
       "      <td>...</td>\n",
       "      <td>...</td>\n",
       "      <td>...</td>\n",
       "      <td>...</td>\n",
       "      <td>...</td>\n",
       "      <td>...</td>\n",
       "      <td>...</td>\n",
       "    </tr>\n",
       "    <tr>\n",
       "      <td>7441</td>\n",
       "      <td>Rent</td>\n",
       "      <td>1406836.0000</td>\n",
       "      <td>1 year</td>\n",
       "      <td>0.0000</td>\n",
       "      <td>12.0000</td>\n",
       "      <td>22.6000</td>\n",
       "      <td>2383260.0000</td>\n",
       "      <td>0.0000</td>\n",
       "      <td>nan</td>\n",
       "      <td>0.0000</td>\n",
       "      <td>debt consolidation</td>\n",
       "      <td>Short Term</td>\n",
       "      <td>99999999.0000</td>\n",
       "      <td>461054.0000</td>\n",
       "      <td>7386.0000</td>\n",
       "      <td>747.0000</td>\n",
       "      <td>0</td>\n",
       "    </tr>\n",
       "    <tr>\n",
       "      <td>7445</td>\n",
       "      <td>Home Mortgage</td>\n",
       "      <td>1564384.0000</td>\n",
       "      <td>6 years</td>\n",
       "      <td>0.0000</td>\n",
       "      <td>21.0000</td>\n",
       "      <td>17.3000</td>\n",
       "      <td>1545016.0000</td>\n",
       "      <td>0.0000</td>\n",
       "      <td>nan</td>\n",
       "      <td>0.0000</td>\n",
       "      <td>other</td>\n",
       "      <td>Long Term</td>\n",
       "      <td>99999999.0000</td>\n",
       "      <td>1043442.0000</td>\n",
       "      <td>32461.0000</td>\n",
       "      <td>728.0000</td>\n",
       "      <td>0</td>\n",
       "    </tr>\n",
       "    <tr>\n",
       "      <td>7464</td>\n",
       "      <td>Home Mortgage</td>\n",
       "      <td>1159152.0000</td>\n",
       "      <td>6 years</td>\n",
       "      <td>0.0000</td>\n",
       "      <td>14.0000</td>\n",
       "      <td>22.0000</td>\n",
       "      <td>389356.0000</td>\n",
       "      <td>1.0000</td>\n",
       "      <td>77.0000</td>\n",
       "      <td>1.0000</td>\n",
       "      <td>debt consolidation</td>\n",
       "      <td>Short Term</td>\n",
       "      <td>99999999.0000</td>\n",
       "      <td>49438.0000</td>\n",
       "      <td>18257.0000</td>\n",
       "      <td>737.0000</td>\n",
       "      <td>0</td>\n",
       "    </tr>\n",
       "    <tr>\n",
       "      <td>7475</td>\n",
       "      <td>Rent</td>\n",
       "      <td>848426.0000</td>\n",
       "      <td>10+ years</td>\n",
       "      <td>0.0000</td>\n",
       "      <td>8.0000</td>\n",
       "      <td>20.1000</td>\n",
       "      <td>526306.0000</td>\n",
       "      <td>0.0000</td>\n",
       "      <td>12.0000</td>\n",
       "      <td>0.0000</td>\n",
       "      <td>debt consolidation</td>\n",
       "      <td>Short Term</td>\n",
       "      <td>99999999.0000</td>\n",
       "      <td>83638.0000</td>\n",
       "      <td>16473.0000</td>\n",
       "      <td>742.0000</td>\n",
       "      <td>0</td>\n",
       "    </tr>\n",
       "    <tr>\n",
       "      <td>7497</td>\n",
       "      <td>Rent</td>\n",
       "      <td>1878910.0000</td>\n",
       "      <td>6 years</td>\n",
       "      <td>0.0000</td>\n",
       "      <td>12.0000</td>\n",
       "      <td>32.1000</td>\n",
       "      <td>1778920.0000</td>\n",
       "      <td>0.0000</td>\n",
       "      <td>nan</td>\n",
       "      <td>0.0000</td>\n",
       "      <td>buy a car</td>\n",
       "      <td>Short Term</td>\n",
       "      <td>99999999.0000</td>\n",
       "      <td>477812.0000</td>\n",
       "      <td>12479.0000</td>\n",
       "      <td>748.0000</td>\n",
       "      <td>0</td>\n",
       "    </tr>\n",
       "  </tbody>\n",
       "</table>\n",
       "<p>870 rows × 17 columns</p>\n",
       "</div>"
      ],
      "text/plain": [
       "     Home Ownership  Annual Income Years in current job  Tax Liens  \\\n",
       "0          Own Home    482087.0000                  NaN     0.0000   \n",
       "2     Home Mortgage    751412.0000              8 years     0.0000   \n",
       "6     Home Mortgage   1511108.0000            10+ years     0.0000   \n",
       "22             Rent    463790.0000                  NaN     0.0000   \n",
       "27             Rent   1004055.0000              8 years     0.0000   \n",
       "...             ...            ...                  ...        ...   \n",
       "7441           Rent   1406836.0000               1 year     0.0000   \n",
       "7445  Home Mortgage   1564384.0000              6 years     0.0000   \n",
       "7464  Home Mortgage   1159152.0000              6 years     0.0000   \n",
       "7475           Rent    848426.0000            10+ years     0.0000   \n",
       "7497           Rent   1878910.0000              6 years     0.0000   \n",
       "\n",
       "      Number of Open Accounts  Years of Credit History  Maximum Open Credit  \\\n",
       "0                     11.0000                  26.3000          685960.0000   \n",
       "2                     11.0000                  35.0000         1182434.0000   \n",
       "6                      9.0000                  20.3000          388124.0000   \n",
       "22                     6.0000                  28.3000          288442.0000   \n",
       "27                     7.0000                  14.5000          328394.0000   \n",
       "...                       ...                      ...                  ...   \n",
       "7441                  12.0000                  22.6000         2383260.0000   \n",
       "7445                  21.0000                  17.3000         1545016.0000   \n",
       "7464                  14.0000                  22.0000          389356.0000   \n",
       "7475                   8.0000                  20.1000          526306.0000   \n",
       "7497                  12.0000                  32.1000         1778920.0000   \n",
       "\n",
       "      Number of Credit Problems  Months since last delinquent  Bankruptcies  \\\n",
       "0                        1.0000                           nan        1.0000   \n",
       "2                        0.0000                           nan        0.0000   \n",
       "6                        0.0000                       73.0000        0.0000   \n",
       "22                       0.0000                           nan        0.0000   \n",
       "27                       0.0000                           nan        0.0000   \n",
       "...                         ...                           ...           ...   \n",
       "7441                     0.0000                           nan        0.0000   \n",
       "7445                     0.0000                           nan        0.0000   \n",
       "7464                     1.0000                       77.0000        1.0000   \n",
       "7475                     0.0000                       12.0000        0.0000   \n",
       "7497                     0.0000                           nan        0.0000   \n",
       "\n",
       "                 Purpose        Term  Current Loan Amount  \\\n",
       "0     debt consolidation  Short Term        99999999.0000   \n",
       "2     debt consolidation  Short Term        99999999.0000   \n",
       "6      home improvements  Short Term        99999999.0000   \n",
       "22    debt consolidation  Short Term        99999999.0000   \n",
       "27    debt consolidation  Short Term        99999999.0000   \n",
       "...                  ...         ...                  ...   \n",
       "7441  debt consolidation  Short Term        99999999.0000   \n",
       "7445               other   Long Term        99999999.0000   \n",
       "7464  debt consolidation  Short Term        99999999.0000   \n",
       "7475  debt consolidation  Short Term        99999999.0000   \n",
       "7497           buy a car  Short Term        99999999.0000   \n",
       "\n",
       "      Current Credit Balance  Monthly Debt  Credit Score  Credit Default  \n",
       "0                 47386.0000     7914.0000      749.0000               0  \n",
       "2                308389.0000    13651.0000      742.0000               0  \n",
       "6                 51623.0000     2317.0000      745.0000               0  \n",
       "22               157700.0000     5063.0000      738.0000               0  \n",
       "27               195966.0000     6041.0000      734.0000               0  \n",
       "...                      ...           ...           ...             ...  \n",
       "7441             461054.0000     7386.0000      747.0000               0  \n",
       "7445            1043442.0000    32461.0000      728.0000               0  \n",
       "7464              49438.0000    18257.0000      737.0000               0  \n",
       "7475              83638.0000    16473.0000      742.0000               0  \n",
       "7497             477812.0000    12479.0000      748.0000               0  \n",
       "\n",
       "[870 rows x 17 columns]"
      ]
     },
     "execution_count": 14,
     "metadata": {},
     "output_type": "execute_result"
    }
   ],
   "source": [
    "# Текущая сумма кредита > 800 тыс.\n",
    "df.loc[df['Current Loan Amount'] > 800000]"
   ]
  },
  {
   "cell_type": "code",
   "execution_count": 15,
   "metadata": {},
   "outputs": [
    {
     "data": {
      "text/plain": [
       "0.0000    7366\n",
       "1.0000      83\n",
       "2.0000      30\n",
       "3.0000      10\n",
       "4.0000       6\n",
       "5.0000       2\n",
       "6.0000       2\n",
       "7.0000       1\n",
       "Name: Tax Liens, dtype: int64"
      ]
     },
     "execution_count": 15,
     "metadata": {},
     "output_type": "execute_result"
    }
   ],
   "source": [
    "# Налоговые обременения\n",
    "df['Tax Liens'].value_counts()"
   ]
  },
  {
   "cell_type": "code",
   "execution_count": 16,
   "metadata": {},
   "outputs": [],
   "source": [
    "# Тестовые данные\n",
    "dft = pd.read_csv('course_project_test.csv')"
   ]
  },
  {
   "cell_type": "code",
   "execution_count": 17,
   "metadata": {},
   "outputs": [
    {
     "name": "stdout",
     "output_type": "stream",
     "text": [
      "<class 'pandas.core.frame.DataFrame'>\n",
      "RangeIndex: 2500 entries, 0 to 2499\n",
      "Data columns (total 16 columns):\n",
      "Home Ownership                  2500 non-null object\n",
      "Annual Income                   1987 non-null float64\n",
      "Years in current job            2414 non-null object\n",
      "Tax Liens                       2500 non-null float64\n",
      "Number of Open Accounts         2500 non-null float64\n",
      "Years of Credit History         2500 non-null float64\n",
      "Maximum Open Credit             2500 non-null float64\n",
      "Number of Credit Problems       2500 non-null float64\n",
      "Months since last delinquent    1142 non-null float64\n",
      "Bankruptcies                    2497 non-null float64\n",
      "Purpose                         2500 non-null object\n",
      "Term                            2500 non-null object\n",
      "Current Loan Amount             2500 non-null float64\n",
      "Current Credit Balance          2500 non-null float64\n",
      "Monthly Debt                    2500 non-null float64\n",
      "Credit Score                    1987 non-null float64\n",
      "dtypes: float64(12), object(4)\n",
      "memory usage: 312.6+ KB\n"
     ]
    }
   ],
   "source": [
    "dft.info()"
   ]
  },
  {
   "cell_type": "code",
   "execution_count": 18,
   "metadata": {},
   "outputs": [
    {
     "data": {
      "text/plain": [
       "Home Ownership                     0\n",
       "Annual Income                    513\n",
       "Years in current job              86\n",
       "Tax Liens                          0\n",
       "Number of Open Accounts            0\n",
       "Years of Credit History            0\n",
       "Maximum Open Credit                0\n",
       "Number of Credit Problems          0\n",
       "Months since last delinquent    1358\n",
       "Bankruptcies                       3\n",
       "Purpose                            0\n",
       "Term                               0\n",
       "Current Loan Amount                0\n",
       "Current Credit Balance             0\n",
       "Monthly Debt                       0\n",
       "Credit Score                     513\n",
       "dtype: int64"
      ]
     },
     "execution_count": 18,
     "metadata": {},
     "output_type": "execute_result"
    }
   ],
   "source": [
    "# Пропущенные значения Test\n",
    "dft.isnull().sum()"
   ]
  },
  {
   "cell_type": "markdown",
   "metadata": {},
   "source": [
    "Annual Income (годовой доход) и Credit Score (кредитный рейтинг) также имеют равное кол-во пропущенных значений - 513"
   ]
  },
  {
   "cell_type": "code",
   "execution_count": 19,
   "metadata": {},
   "outputs": [
    {
     "data": {
      "text/html": [
       "<div>\n",
       "<style scoped>\n",
       "    .dataframe tbody tr th:only-of-type {\n",
       "        vertical-align: middle;\n",
       "    }\n",
       "\n",
       "    .dataframe tbody tr th {\n",
       "        vertical-align: top;\n",
       "    }\n",
       "\n",
       "    .dataframe thead th {\n",
       "        text-align: right;\n",
       "    }\n",
       "</style>\n",
       "<table border=\"1\" class=\"dataframe\">\n",
       "  <thead>\n",
       "    <tr style=\"text-align: right;\">\n",
       "      <th></th>\n",
       "      <th>count</th>\n",
       "      <th>mean</th>\n",
       "      <th>std</th>\n",
       "      <th>min</th>\n",
       "      <th>25%</th>\n",
       "      <th>50%</th>\n",
       "      <th>75%</th>\n",
       "      <th>max</th>\n",
       "    </tr>\n",
       "  </thead>\n",
       "  <tbody>\n",
       "    <tr>\n",
       "      <td>Annual Income</td>\n",
       "      <td>1987.0000</td>\n",
       "      <td>1366921.6759</td>\n",
       "      <td>917125.1512</td>\n",
       "      <td>106533.0000</td>\n",
       "      <td>852311.5000</td>\n",
       "      <td>1178475.0000</td>\n",
       "      <td>1629734.5000</td>\n",
       "      <td>14975610.0000</td>\n",
       "    </tr>\n",
       "    <tr>\n",
       "      <td>Tax Liens</td>\n",
       "      <td>2500.0000</td>\n",
       "      <td>0.0352</td>\n",
       "      <td>0.3863</td>\n",
       "      <td>0.0000</td>\n",
       "      <td>0.0000</td>\n",
       "      <td>0.0000</td>\n",
       "      <td>0.0000</td>\n",
       "      <td>15.0000</td>\n",
       "    </tr>\n",
       "    <tr>\n",
       "      <td>Number of Open Accounts</td>\n",
       "      <td>2500.0000</td>\n",
       "      <td>11.1844</td>\n",
       "      <td>4.8528</td>\n",
       "      <td>1.0000</td>\n",
       "      <td>8.0000</td>\n",
       "      <td>10.0000</td>\n",
       "      <td>14.0000</td>\n",
       "      <td>48.0000</td>\n",
       "    </tr>\n",
       "    <tr>\n",
       "      <td>Years of Credit History</td>\n",
       "      <td>2500.0000</td>\n",
       "      <td>18.3259</td>\n",
       "      <td>7.2547</td>\n",
       "      <td>3.9000</td>\n",
       "      <td>13.4000</td>\n",
       "      <td>17.0000</td>\n",
       "      <td>22.1000</td>\n",
       "      <td>53.4000</td>\n",
       "    </tr>\n",
       "    <tr>\n",
       "      <td>Maximum Open Credit</td>\n",
       "      <td>2500.0000</td>\n",
       "      <td>710570.4056</td>\n",
       "      <td>1511983.4839</td>\n",
       "      <td>0.0000</td>\n",
       "      <td>278586.0000</td>\n",
       "      <td>478676.0000</td>\n",
       "      <td>802598.5000</td>\n",
       "      <td>54484386.0000</td>\n",
       "    </tr>\n",
       "    <tr>\n",
       "      <td>Number of Credit Problems</td>\n",
       "      <td>2500.0000</td>\n",
       "      <td>0.1620</td>\n",
       "      <td>0.5599</td>\n",
       "      <td>0.0000</td>\n",
       "      <td>0.0000</td>\n",
       "      <td>0.0000</td>\n",
       "      <td>0.0000</td>\n",
       "      <td>15.0000</td>\n",
       "    </tr>\n",
       "    <tr>\n",
       "      <td>Months since last delinquent</td>\n",
       "      <td>1142.0000</td>\n",
       "      <td>34.1813</td>\n",
       "      <td>22.0243</td>\n",
       "      <td>0.0000</td>\n",
       "      <td>16.0000</td>\n",
       "      <td>30.0000</td>\n",
       "      <td>50.0000</td>\n",
       "      <td>82.0000</td>\n",
       "    </tr>\n",
       "    <tr>\n",
       "      <td>Bankruptcies</td>\n",
       "      <td>2497.0000</td>\n",
       "      <td>0.1069</td>\n",
       "      <td>0.3572</td>\n",
       "      <td>0.0000</td>\n",
       "      <td>0.0000</td>\n",
       "      <td>0.0000</td>\n",
       "      <td>0.0000</td>\n",
       "      <td>5.0000</td>\n",
       "    </tr>\n",
       "    <tr>\n",
       "      <td>Current Loan Amount</td>\n",
       "      <td>2500.0000</td>\n",
       "      <td>12155719.6332</td>\n",
       "      <td>32260973.7200</td>\n",
       "      <td>15422.0000</td>\n",
       "      <td>187126.5000</td>\n",
       "      <td>322366.0000</td>\n",
       "      <td>522582.5000</td>\n",
       "      <td>99999999.0000</td>\n",
       "    </tr>\n",
       "    <tr>\n",
       "      <td>Current Credit Balance</td>\n",
       "      <td>2500.0000</td>\n",
       "      <td>296396.6484</td>\n",
       "      <td>378301.9662</td>\n",
       "      <td>0.0000</td>\n",
       "      <td>110114.5000</td>\n",
       "      <td>207385.0000</td>\n",
       "      <td>366348.5000</td>\n",
       "      <td>6030087.0000</td>\n",
       "    </tr>\n",
       "    <tr>\n",
       "      <td>Monthly Debt</td>\n",
       "      <td>2500.0000</td>\n",
       "      <td>18271.3400</td>\n",
       "      <td>11543.8815</td>\n",
       "      <td>93.0000</td>\n",
       "      <td>10024.7500</td>\n",
       "      <td>16642.5000</td>\n",
       "      <td>24146.0000</td>\n",
       "      <td>93555.0000</td>\n",
       "    </tr>\n",
       "    <tr>\n",
       "      <td>Credit Score</td>\n",
       "      <td>1987.0000</td>\n",
       "      <td>1234.5169</td>\n",
       "      <td>1740.2194</td>\n",
       "      <td>585.0000</td>\n",
       "      <td>710.0000</td>\n",
       "      <td>731.0000</td>\n",
       "      <td>743.0000</td>\n",
       "      <td>7480.0000</td>\n",
       "    </tr>\n",
       "  </tbody>\n",
       "</table>\n",
       "</div>"
      ],
      "text/plain": [
       "                                 count          mean           std  \\\n",
       "Annual Income                1987.0000  1366921.6759   917125.1512   \n",
       "Tax Liens                    2500.0000        0.0352        0.3863   \n",
       "Number of Open Accounts      2500.0000       11.1844        4.8528   \n",
       "Years of Credit History      2500.0000       18.3259        7.2547   \n",
       "Maximum Open Credit          2500.0000   710570.4056  1511983.4839   \n",
       "Number of Credit Problems    2500.0000        0.1620        0.5599   \n",
       "Months since last delinquent 1142.0000       34.1813       22.0243   \n",
       "Bankruptcies                 2497.0000        0.1069        0.3572   \n",
       "Current Loan Amount          2500.0000 12155719.6332 32260973.7200   \n",
       "Current Credit Balance       2500.0000   296396.6484   378301.9662   \n",
       "Monthly Debt                 2500.0000    18271.3400    11543.8815   \n",
       "Credit Score                 1987.0000     1234.5169     1740.2194   \n",
       "\n",
       "                                     min         25%          50%  \\\n",
       "Annual Income                106533.0000 852311.5000 1178475.0000   \n",
       "Tax Liens                         0.0000      0.0000       0.0000   \n",
       "Number of Open Accounts           1.0000      8.0000      10.0000   \n",
       "Years of Credit History           3.9000     13.4000      17.0000   \n",
       "Maximum Open Credit               0.0000 278586.0000  478676.0000   \n",
       "Number of Credit Problems         0.0000      0.0000       0.0000   \n",
       "Months since last delinquent      0.0000     16.0000      30.0000   \n",
       "Bankruptcies                      0.0000      0.0000       0.0000   \n",
       "Current Loan Amount           15422.0000 187126.5000  322366.0000   \n",
       "Current Credit Balance            0.0000 110114.5000  207385.0000   \n",
       "Monthly Debt                     93.0000  10024.7500   16642.5000   \n",
       "Credit Score                    585.0000    710.0000     731.0000   \n",
       "\n",
       "                                      75%           max  \n",
       "Annual Income                1629734.5000 14975610.0000  \n",
       "Tax Liens                          0.0000       15.0000  \n",
       "Number of Open Accounts           14.0000       48.0000  \n",
       "Years of Credit History           22.1000       53.4000  \n",
       "Maximum Open Credit           802598.5000 54484386.0000  \n",
       "Number of Credit Problems          0.0000       15.0000  \n",
       "Months since last delinquent      50.0000       82.0000  \n",
       "Bankruptcies                       0.0000        5.0000  \n",
       "Current Loan Amount           522582.5000 99999999.0000  \n",
       "Current Credit Balance        366348.5000  6030087.0000  \n",
       "Monthly Debt                   24146.0000    93555.0000  \n",
       "Credit Score                     743.0000     7480.0000  "
      ]
     },
     "execution_count": 19,
     "metadata": {},
     "output_type": "execute_result"
    }
   ],
   "source": [
    "dft.describe().T"
   ]
  },
  {
   "cell_type": "code",
   "execution_count": 20,
   "metadata": {},
   "outputs": [
    {
     "data": {
      "text/plain": [
       "Home Ownership                     0\n",
       "Annual Income                      0\n",
       "Years in current job             296\n",
       "Tax Liens                          0\n",
       "Number of Open Accounts            0\n",
       "Years of Credit History            0\n",
       "Maximum Open Credit                0\n",
       "Number of Credit Problems          0\n",
       "Months since last delinquent    3207\n",
       "Bankruptcies                      12\n",
       "Purpose                            0\n",
       "Term                               0\n",
       "Current Loan Amount                0\n",
       "Current Credit Balance             0\n",
       "Monthly Debt                       0\n",
       "Credit Score                       0\n",
       "Credit Default                     0\n",
       "dtype: int64"
      ]
     },
     "execution_count": 20,
     "metadata": {},
     "output_type": "execute_result"
    }
   ],
   "source": [
    "# Сделаем выборку данных, где задан кредитный рейтинг\n",
    "df_temp = df.loc[~df['Credit Score'].isnull()].copy()\n",
    "df_temp.isnull().sum()"
   ]
  },
  {
   "cell_type": "code",
   "execution_count": 21,
   "metadata": {},
   "outputs": [],
   "source": [
    "df_temp['Bankruptcies'].fillna(-1, inplace = True)\n",
    "df_temp['Months since last delinquent'].fillna(-1, inplace = True)"
   ]
  },
  {
   "cell_type": "markdown",
   "metadata": {},
   "source": [
    "#### График зависимости кредитного рейтинга от прочих числовых признаков"
   ]
  },
  {
   "cell_type": "code",
   "execution_count": 23,
   "metadata": {},
   "outputs": [],
   "source": [
    "matplotlib.rcParams.update({'figure.figsize': (12,6)})"
   ]
  },
  {
   "cell_type": "code",
   "execution_count": 24,
   "metadata": {},
   "outputs": [
    {
     "data": {
      "image/png": "[encoded data removed]",
      "text/plain": [
       "<Figure size 864x432 with 1 Axes>"
      ]
     },
     "metadata": {},
     "output_type": "display_data"
    }
   ],
   "source": [
    "predictors = ['Tax Liens', 'Number of Open Accounts', 'Years of Credit History', 'Maximum Open Credit',\n",
    "              'Number of Credit Problems', 'Months since last delinquent', 'Bankruptcies', 'Current Loan Amount',\n",
    "              'Current Credit Balance', 'Monthly Debt']\n",
    "selector = SelectKBest(f_classif, k='all')\n",
    "selector.fit(df_temp[predictors], df_temp['Credit Score'])\n",
    "scores = -np.log10(selector.pvalues_)\n",
    "plt.bar(range(len(predictors)), scores)\n",
    "plt.xticks(range(len(predictors)), predictors, rotation='vertical')\n",
    "plt.title('График зависимости кредитного рейтинга')\n",
    "plt.show()"
   ]
  },
  {
   "cell_type": "code",
   "execution_count": 25,
   "metadata": {},
   "outputs": [
    {
     "data": {
      "text/plain": [
       "0.0000    6469\n",
       "1.0000     882\n",
       "2.0000      93\n",
       "3.0000      35\n",
       "4.0000       9\n",
       "5.0000       7\n",
       "6.0000       4\n",
       "7.0000       1\n",
       "Name: Number of Credit Problems, dtype: int64"
      ]
     },
     "execution_count": 25,
     "metadata": {},
     "output_type": "execute_result"
    }
   ],
   "source": [
    "# Количество проблем с кредитом (Train)\n",
    "df['Number of Credit Problems'].value_counts()"
   ]
  },
  {
   "cell_type": "code",
   "execution_count": 26,
   "metadata": {},
   "outputs": [
    {
     "data": {
      "text/plain": [
       "0.0000     2177\n",
       "1.0000      280\n",
       "2.0000       29\n",
       "3.0000        7\n",
       "5.0000        4\n",
       "15.0000       1\n",
       "4.0000        1\n",
       "7.0000        1\n",
       "Name: Number of Credit Problems, dtype: int64"
      ]
     },
     "execution_count": 26,
     "metadata": {},
     "output_type": "execute_result"
    }
   ],
   "source": [
    "# Количество проблем с кредитом (Test)\n",
    "dft['Number of Credit Problems'].value_counts()"
   ]
  },
  {
   "cell_type": "code",
   "execution_count": 27,
   "metadata": {},
   "outputs": [
    {
     "name": "stdout",
     "output_type": "stream",
     "text": [
      "Макс колич. открытых счетов (train): 43.0\n",
      "Макс колич. открытых счетов (test ): 48.0\n"
     ]
    }
   ],
   "source": [
    "print(f'Макс колич. открытых счетов (train): {max(df[\"Number of Open Accounts\"])}')\n",
    "print(f'Макс колич. открытых счетов (test ): {max(dft[\"Number of Open Accounts\"])}')"
   ]
  },
  {
   "cell_type": "code",
   "execution_count": 28,
   "metadata": {},
   "outputs": [
    {
     "data": {
      "text/plain": [
       "<matplotlib.axes._subplots.AxesSubplot at 0x248f7b30508>"
      ]
     },
     "execution_count": 28,
     "metadata": {},
     "output_type": "execute_result"
    },
    {
     "data": {
      "image/png": "[encoded data removed]",
      "text/plain": [
       "<Figure size 864x432 with 1 Axes>"
      ]
     },
     "metadata": {},
     "output_type": "display_data"
    }
   ],
   "source": [
    "# Количество открытых счетов\n",
    "df['Number of Open Accounts'].hist(bins=40)"
   ]
  },
  {
   "cell_type": "code",
   "execution_count": 29,
   "metadata": {},
   "outputs": [
    {
     "data": {
      "text/html": [
       "<div>\n",
       "<style scoped>\n",
       "    .dataframe tbody tr th:only-of-type {\n",
       "        vertical-align: middle;\n",
       "    }\n",
       "\n",
       "    .dataframe tbody tr th {\n",
       "        vertical-align: top;\n",
       "    }\n",
       "\n",
       "    .dataframe thead th {\n",
       "        text-align: right;\n",
       "    }\n",
       "</style>\n",
       "<table border=\"1\" class=\"dataframe\">\n",
       "  <thead>\n",
       "    <tr style=\"text-align: right;\">\n",
       "      <th></th>\n",
       "      <th>Home Ownership</th>\n",
       "      <th>Annual Income</th>\n",
       "      <th>Years in current job</th>\n",
       "      <th>Tax Liens</th>\n",
       "      <th>Number of Open Accounts</th>\n",
       "      <th>Years of Credit History</th>\n",
       "      <th>Maximum Open Credit</th>\n",
       "      <th>Number of Credit Problems</th>\n",
       "      <th>Months since last delinquent</th>\n",
       "      <th>Bankruptcies</th>\n",
       "      <th>Purpose</th>\n",
       "      <th>Term</th>\n",
       "      <th>Current Loan Amount</th>\n",
       "      <th>Current Credit Balance</th>\n",
       "      <th>Monthly Debt</th>\n",
       "      <th>Credit Score</th>\n",
       "      <th>Credit Default</th>\n",
       "    </tr>\n",
       "  </thead>\n",
       "  <tbody>\n",
       "    <tr>\n",
       "      <td>2200</td>\n",
       "      <td>Rent</td>\n",
       "      <td>9338880.0000</td>\n",
       "      <td>10+ years</td>\n",
       "      <td>0.0000</td>\n",
       "      <td>7.0000</td>\n",
       "      <td>7.3000</td>\n",
       "      <td>1092608.0000</td>\n",
       "      <td>0.0000</td>\n",
       "      <td>nan</td>\n",
       "      <td>0.0000</td>\n",
       "      <td>business loan</td>\n",
       "      <td>Short Term</td>\n",
       "      <td>788480.0000</td>\n",
       "      <td>326496.0000</td>\n",
       "      <td>40546.0000</td>\n",
       "      <td>720.0000</td>\n",
       "      <td>0</td>\n",
       "    </tr>\n",
       "    <tr>\n",
       "      <td>6472</td>\n",
       "      <td>Rent</td>\n",
       "      <td>10149344.0000</td>\n",
       "      <td>5 years</td>\n",
       "      <td>0.0000</td>\n",
       "      <td>10.0000</td>\n",
       "      <td>17.5000</td>\n",
       "      <td>270380.0000</td>\n",
       "      <td>0.0000</td>\n",
       "      <td>22.0000</td>\n",
       "      <td>0.0000</td>\n",
       "      <td>debt consolidation</td>\n",
       "      <td>Short Term</td>\n",
       "      <td>664818.0000</td>\n",
       "      <td>205713.0000</td>\n",
       "      <td>61235.0000</td>\n",
       "      <td>692.0000</td>\n",
       "      <td>0</td>\n",
       "    </tr>\n",
       "  </tbody>\n",
       "</table>\n",
       "</div>"
      ],
      "text/plain": [
       "     Home Ownership  Annual Income Years in current job  Tax Liens  \\\n",
       "2200           Rent   9338880.0000            10+ years     0.0000   \n",
       "6472           Rent  10149344.0000              5 years     0.0000   \n",
       "\n",
       "      Number of Open Accounts  Years of Credit History  Maximum Open Credit  \\\n",
       "2200                   7.0000                   7.3000         1092608.0000   \n",
       "6472                  10.0000                  17.5000          270380.0000   \n",
       "\n",
       "      Number of Credit Problems  Months since last delinquent  Bankruptcies  \\\n",
       "2200                     0.0000                           nan        0.0000   \n",
       "6472                     0.0000                       22.0000        0.0000   \n",
       "\n",
       "                 Purpose        Term  Current Loan Amount  \\\n",
       "2200       business loan  Short Term          788480.0000   \n",
       "6472  debt consolidation  Short Term          664818.0000   \n",
       "\n",
       "      Current Credit Balance  Monthly Debt  Credit Score  Credit Default  \n",
       "2200             326496.0000    40546.0000      720.0000               0  \n",
       "6472             205713.0000    61235.0000      692.0000               0  "
      ]
     },
     "execution_count": 29,
     "metadata": {},
     "output_type": "execute_result"
    }
   ],
   "source": [
    "# Годовой доход > 9 млн.\n",
    "df.loc[df['Annual Income'] > 9000000]"
   ]
  },
  {
   "cell_type": "code",
   "execution_count": 30,
   "metadata": {},
   "outputs": [
    {
     "data": {
      "image/png": "[encoded data removed]",
      "text/plain": [
       "<Figure size 864x432 with 1 Axes>"
      ]
     },
     "metadata": {},
     "output_type": "display_data"
    }
   ],
   "source": [
    "# Налоговые обременения (Tax Liens) и Факт невыполнения кредитных обязательств (Credit Default)\n",
    "ax = sns.boxenplot(x=\"Tax Liens\", y=\"Annual Income\", hue=\"Credit Default\", data=df)"
   ]
  },
  {
   "cell_type": "code",
   "execution_count": 31,
   "metadata": {},
   "outputs": [
    {
     "data": {
      "image/png": "[encoded data removed]",
      "text/plain": [
       "<Figure size 864x432 with 1 Axes>"
      ]
     },
     "metadata": {},
     "output_type": "display_data"
    }
   ],
   "source": [
    "# Кол-во банкротств (Bankruptcies) и Факт невыполнения кредитных обязательств (Credit Default)\n",
    "ax = sns.boxenplot(x=\"Bankruptcies\", y=\"Annual Income\", hue=\"Credit Default\", data=df)"
   ]
  },
  {
   "cell_type": "code",
   "execution_count": 32,
   "metadata": {},
   "outputs": [
    {
     "data": {
      "image/png": "[encoded data removed]",
      "text/plain": [
       "<Figure size 864x432 with 1 Axes>"
      ]
     },
     "metadata": {},
     "output_type": "display_data"
    }
   ],
   "source": [
    "# Кол-во проблем с кредитом (Number of Credit Problems) и Факт невыполнения кредитных обязательств (Credit Default)\n",
    "ax = sns.boxenplot(x=\"Number of Credit Problems\", y=\"Annual Income\", hue=\"Credit Default\", data=df)"
   ]
  },
  {
   "cell_type": "code",
   "execution_count": 33,
   "metadata": {},
   "outputs": [
    {
     "data": {
      "text/plain": [
       "<matplotlib.legend.Legend at 0x248f7e87ec8>"
      ]
     },
     "execution_count": 33,
     "metadata": {},
     "output_type": "execute_result"
    },
    {
     "data": {
      "image/png": "[encoded data removed]",
      "text/plain": [
       "<Figure size 864x432 with 1 Axes>"
      ]
     },
     "metadata": {},
     "output_type": "display_data"
    }
   ],
   "source": [
    "# Соотношение просрочек/погашений по Целям кредита\n",
    "labels = [\"Погашен вовремя\", \"Просрочка\"]\n",
    "ax = sns.countplot(x=\"Purpose\", hue=\"Credit Default\", data=df)\n",
    "ax.set_xticklabels(ax.get_xticklabels(), rotation=30, ha=\"right\")\n",
    "ax.legend(labels, loc=1)"
   ]
  },
  {
   "cell_type": "code",
   "execution_count": 34,
   "metadata": {},
   "outputs": [
    {
     "data": {
      "text/plain": [
       "<matplotlib.axes._subplots.AxesSubplot at 0x248f7ebc988>"
      ]
     },
     "execution_count": 34,
     "metadata": {},
     "output_type": "execute_result"
    },
    {
     "data": {
      "image/png": "[encoded data removed]",
      "text/plain": [
       "<Figure size 864x432 with 1 Axes>"
      ]
     },
     "metadata": {},
     "output_type": "display_data"
    }
   ],
   "source": [
    "# Количество лет на текущем месте работы\n",
    "sns.countplot(df['Years in current job'])"
   ]
  },
  {
   "cell_type": "code",
   "execution_count": 35,
   "metadata": {},
   "outputs": [
    {
     "data": {
      "text/html": [
       "<div>\n",
       "<style scoped>\n",
       "    .dataframe tbody tr th:only-of-type {\n",
       "        vertical-align: middle;\n",
       "    }\n",
       "\n",
       "    .dataframe tbody tr th {\n",
       "        vertical-align: top;\n",
       "    }\n",
       "\n",
       "    .dataframe thead th {\n",
       "        text-align: right;\n",
       "    }\n",
       "</style>\n",
       "<table border=\"1\" class=\"dataframe\">\n",
       "  <thead>\n",
       "    <tr style=\"text-align: right;\">\n",
       "      <th></th>\n",
       "      <th>Home Ownership</th>\n",
       "      <th>Annual Income</th>\n",
       "      <th>Years in current job</th>\n",
       "      <th>Tax Liens</th>\n",
       "      <th>Number of Open Accounts</th>\n",
       "      <th>Years of Credit History</th>\n",
       "      <th>Maximum Open Credit</th>\n",
       "      <th>Number of Credit Problems</th>\n",
       "      <th>Months since last delinquent</th>\n",
       "      <th>Bankruptcies</th>\n",
       "      <th>Purpose</th>\n",
       "      <th>Term</th>\n",
       "      <th>Current Loan Amount</th>\n",
       "      <th>Current Credit Balance</th>\n",
       "      <th>Monthly Debt</th>\n",
       "      <th>Credit Score</th>\n",
       "      <th>Credit Default</th>\n",
       "    </tr>\n",
       "  </thead>\n",
       "  <tbody>\n",
       "    <tr>\n",
       "      <td>4769</td>\n",
       "      <td>Home Mortgage</td>\n",
       "      <td>3739960.0000</td>\n",
       "      <td>9 years</td>\n",
       "      <td>0.0000</td>\n",
       "      <td>7.0000</td>\n",
       "      <td>22.8000</td>\n",
       "      <td>26343328.0000</td>\n",
       "      <td>0.0000</td>\n",
       "      <td>nan</td>\n",
       "      <td>0.0000</td>\n",
       "      <td>home improvements</td>\n",
       "      <td>Short Term</td>\n",
       "      <td>757834.0000</td>\n",
       "      <td>6506797.0000</td>\n",
       "      <td>38023.0000</td>\n",
       "      <td>703.0000</td>\n",
       "      <td>0</td>\n",
       "    </tr>\n",
       "  </tbody>\n",
       "</table>\n",
       "</div>"
      ],
      "text/plain": [
       "     Home Ownership  Annual Income Years in current job  Tax Liens  \\\n",
       "4769  Home Mortgage   3739960.0000              9 years     0.0000   \n",
       "\n",
       "      Number of Open Accounts  Years of Credit History  Maximum Open Credit  \\\n",
       "4769                   7.0000                  22.8000        26343328.0000   \n",
       "\n",
       "      Number of Credit Problems  Months since last delinquent  Bankruptcies  \\\n",
       "4769                     0.0000                           nan        0.0000   \n",
       "\n",
       "                Purpose        Term  Current Loan Amount  \\\n",
       "4769  home improvements  Short Term          757834.0000   \n",
       "\n",
       "      Current Credit Balance  Monthly Debt  Credit Score  Credit Default  \n",
       "4769            6506797.0000    38023.0000      703.0000               0  "
      ]
     },
     "execution_count": 35,
     "metadata": {},
     "output_type": "execute_result"
    }
   ],
   "source": [
    "# Текущий кредитный баланс > 5 млн.\n",
    "df.loc[df['Current Credit Balance'] > 5000000]"
   ]
  },
  {
   "cell_type": "code",
   "execution_count": 36,
   "metadata": {},
   "outputs": [
    {
     "name": "stdout",
     "output_type": "stream",
     "text": [
      "Home Ownership\n",
      "====================\n",
      "Home Mortgage    3637\n",
      "Rent             3204\n",
      "Own Home          647\n",
      "Have Mortgage      12\n",
      "Name: Home Ownership, dtype: int64\n",
      "****************************************\n",
      "\n",
      "Years in current job\n",
      "====================\n",
      "10+ years    2332\n",
      "2 years       705\n",
      "3 years       620\n",
      "< 1 year      563\n",
      "5 years       516\n",
      "1 year        504\n",
      "4 years       469\n",
      "6 years       426\n",
      "7 years       396\n",
      "8 years       339\n",
      "9 years       259\n",
      "Name: Years in current job, dtype: int64\n",
      "****************************************\n",
      "\n",
      "Purpose\n",
      "====================\n",
      "debt consolidation      5944\n",
      "other                    665\n",
      "home improvements        412\n",
      "business loan            129\n",
      "buy a car                 96\n",
      "medical bills             71\n",
      "major purchase            40\n",
      "take a trip               37\n",
      "buy house                 34\n",
      "small business            26\n",
      "wedding                   15\n",
      "moving                    11\n",
      "educational expenses      10\n",
      "vacation                   8\n",
      "renewable energy           2\n",
      "Name: Purpose, dtype: int64\n",
      "****************************************\n",
      "\n",
      "Term\n",
      "====================\n",
      "Short Term    5556\n",
      "Long Term     1944\n",
      "Name: Term, dtype: int64\n",
      "****************************************\n",
      "\n"
     ]
    }
   ],
   "source": [
    "# Обзор объектных признаков (Train)\n",
    "for cat_colname in df.select_dtypes(include='object').columns:\n",
    "    print(str(cat_colname) + '\\n' + '=' * 20 + '\\n' + str(df[cat_colname].value_counts()) + '\\n' + '*' * 40 + '\\n')"
   ]
  },
  {
   "cell_type": "code",
   "execution_count": 37,
   "metadata": {},
   "outputs": [
    {
     "name": "stdout",
     "output_type": "stream",
     "text": [
      "Home Ownership\n",
      "====================\n",
      "Home Mortgage    1225\n",
      "Rent             1020\n",
      "Own Home          248\n",
      "Have Mortgage       7\n",
      "Name: Home Ownership, dtype: int64\n",
      "****************************************\n",
      "\n",
      "Years in current job\n",
      "====================\n",
      "10+ years    810\n",
      "3 years      228\n",
      "2 years      212\n",
      "< 1 year     207\n",
      "5 years      169\n",
      "1 year       153\n",
      "4 years      152\n",
      "7 years      140\n",
      "6 years      137\n",
      "8 years      107\n",
      "9 years       99\n",
      "Name: Years in current job, dtype: int64\n",
      "****************************************\n",
      "\n",
      "Purpose\n",
      "====================\n",
      "debt consolidation      1973\n",
      "other                    240\n",
      "home improvements        140\n",
      "buy a car                 34\n",
      "business loan             30\n",
      "medical bills             27\n",
      "buy house                 19\n",
      "take a trip               14\n",
      "major purchase             9\n",
      "small business             5\n",
      "educational expenses       3\n",
      "vacation                   3\n",
      "wedding                    2\n",
      "moving                     1\n",
      "Name: Purpose, dtype: int64\n",
      "****************************************\n",
      "\n",
      "Term\n",
      "====================\n",
      "Short Term    1861\n",
      "Long Term      639\n",
      "Name: Term, dtype: int64\n",
      "****************************************\n",
      "\n"
     ]
    }
   ],
   "source": [
    "# Обзор объектных признаков (Test)\n",
    "for cat_colname in dft.select_dtypes(include='object').columns:\n",
    "    print(str(cat_colname) + '\\n' + '=' * 20 + '\\n' + str(dft[cat_colname].value_counts()) + '\\n' + '*' * 40 + '\\n')"
   ]
  },
  {
   "cell_type": "code",
   "execution_count": 38,
   "metadata": {},
   "outputs": [
    {
     "data": {
      "text/plain": [
       "400"
      ]
     },
     "execution_count": 38,
     "metadata": {},
     "output_type": "execute_result"
    }
   ],
   "source": [
    "# Сколько значений имеют кредитный  рейтинг > 800\n",
    "df.loc[df['Credit Score'] > 800, 'Credit Score'].count()"
   ]
  },
  {
   "cell_type": "code",
   "execution_count": 39,
   "metadata": {},
   "outputs": [
    {
     "data": {
      "text/plain": [
       "6060.0"
      ]
     },
     "execution_count": 39,
     "metadata": {},
     "output_type": "execute_result"
    }
   ],
   "source": [
    "# Минимальное из этих значений\n",
    "min(df.loc[df['Credit Score'] > 800, 'Credit Score'])"
   ]
  },
  {
   "cell_type": "markdown",
   "metadata": {},
   "source": [
    "Предположительно такие значения являются выбросами (увеличение от истинного значения в 10 раз)"
   ]
  },
  {
   "cell_type": "markdown",
   "metadata": {},
   "source": [
    "#### __3__. Data processing"
   ]
  },
  {
   "cell_type": "code",
   "execution_count": 40,
   "metadata": {},
   "outputs": [],
   "source": [
    "# Подготовка данных\n",
    "def prep(df):\n",
    "    # Банкротства\n",
    "    df[\"Bankruptcies\"].fillna(-1, inplace = True)\n",
    "    # Количество месяцев с последней просрочки платежа\n",
    "    df['Months since last delinquent'].fillna(-1, inplace = True)    \n",
    "    #df = df.drop('Months since last delinquent', axis=1)\n",
    "    \n",
    "    # Количество проблем с кредитом\n",
    "    df.loc[df['Number of Credit Problems'] > 5.0, 'Number of Credit Problems'] = 6.0   \n",
    "    \n",
    "    # Домовладение: Ипотека, Наём, Собственное \n",
    "    df['Home'] = df['Home Ownership'].map({'Home Mortgage': 'Mort', 'Have Mortgage': 'Mort', 'Rent': 'Rent', 'Own Home': 'Own'})\n",
    "    df = df.drop('Home Ownership', axis=1)\n",
    "  \n",
    "    # Кол-во лет на текущей работе\n",
    "    df['Years in current job'].fillna('10+ years', inplace = True)\n",
    "    df['Job'] = df['Years in current job'].map({'< 1 year':'0', '1 year':'1', '2 years':'2', '3 years':'3', '4 years':'4',\n",
    "            '5 years':'5', '6 years':'6', '7 years':'7', '8 years':'8', '9 years':'9', '10+ years':'10'})\n",
    "    df = df.drop('Years in current job', axis=1)\n",
    "    \n",
    "    # Срок кредита\n",
    " #   df['Term'] = df['Term'].map({'Short Term': 0, 'Long Term': 1})\n",
    "\n",
    "    # Текущая сумма кредита\n",
    "    df['CLA9'] = 0\n",
    "    df.loc[df['Current Loan Amount'] == 99999999.0, 'CLA9'] = 1\n",
    "    df.loc[df['Current Loan Amount'] == 99999999.0, 'Current Loan Amount'] = 1.0\n",
    "    df.loc[df['Current Loan Amount'] > 800000.0, 'Current Loan Amount'] = 800000.0\n",
    "    \n",
    "    # Наибольший открытый кредит\n",
    "    df.loc[df['Maximum Open Credit'] > 2000000.0, 'Maximum Open Credit'] = 2000000.0\n",
    "    \n",
    "    # Текущий кредитный баланс\n",
    "    df.loc[df['Current Credit Balance'] > 1500000.0, 'Current Credit Balance'] = 1500000.0\n",
    "    \n",
    "    # Годовой доход\n",
    "    df.loc[df['Annual Income'] > 9000000.0, 'Annual Income'] = 9000000.0\n",
    "    \n",
    "    # Кредитный рейтинг\n",
    "    df.loc[df['Credit Score'] > 800, 'Credit Score'] = df['Credit Score'] * 0.1\n",
    "    \n",
    "    # Кредитный рейтинг - вычислим незаполненные по средним знач. от 'Number of Open Accounts' и 'Number of Credit Problems'\n",
    "    df_cs = df.loc[~df['Credit Score'].isnull()].copy()\n",
    "    cs_mean = df_cs.groupby(['Number of Open Accounts','Number of Credit Problems'],\\\n",
    "                            as_index=False)[['Credit Score']].mean().rename(columns={'Credit Score':'Score'}).copy()\n",
    "    cs_mean['Score'] = cs_mean.Score.interpolate(method='linear')\n",
    "    df = pd.merge(df, cs_mean, on=['Number of Open Accounts','Number of Credit Problems'], how='left').set_index(df.index)\n",
    "    csore_med = df['Score'].mean()\n",
    "    df['Score'] = df['Score'].fillna(csore_med)\n",
    "    df['Credit Score'].fillna(df['Score'], inplace = True)\n",
    "\n",
    "    # Годовой доход - вычислим незаполненные по средним знач. от 'Number of Open Accounts' и 'Number of Credit Problems'\n",
    "    an_mean = df_cs.groupby(['Number of Open Accounts','Number of Credit Problems'],\\\n",
    "                            as_index=False)[['Annual Income']].mean().rename(columns={'Annual Income':'Ann_Mean'}).copy()\n",
    "    an_mean['Ann_Mean'] = an_mean.Ann_Mean.interpolate(method='linear')\n",
    "    df = pd.merge(df, an_mean, on=['Number of Open Accounts','Number of Credit Problems'], how='left').set_index(df.index)\n",
    "    Annual_med = df['Ann_Mean'].mean()\n",
    "    df['Ann_Mean'] = df['Ann_Mean'].fillna(Annual_med)\n",
    "    df[\"Annual Income\"].fillna(df['Ann_Mean'], inplace = True)         # Заполним пропущенные значения средними   \n",
    "    \n",
    "    df = df.drop('Score', axis=1)\n",
    "    df = df.drop('Ann_Mean', axis=1)    \n",
    "    return df"
   ]
  },
  {
   "cell_type": "code",
   "execution_count": 41,
   "metadata": {},
   "outputs": [],
   "source": [
    "df = pd.read_csv('course_project_train.csv')\n",
    "# До обработки - удалим незаполненные значения \"Credit Score\", когда 'Credit Default' = 0\n",
    "# для балансировки целевого класса 'Credit Default'(1)\n",
    "df_temp = df.loc[(df['Credit Score'].isnull()) & (df['Credit Default'] == 0)]\n",
    "df.drop(index=df_temp.index, inplace=True)"
   ]
  },
  {
   "cell_type": "code",
   "execution_count": 42,
   "metadata": {},
   "outputs": [],
   "source": [
    "df_ = prep(df)"
   ]
  },
  {
   "cell_type": "code",
   "execution_count": 43,
   "metadata": {},
   "outputs": [
    {
     "name": "stdout",
     "output_type": "stream",
     "text": [
      "<class 'pandas.core.frame.DataFrame'>\n",
      "Int64Index: 6472 entries, 0 to 7497\n",
      "Data columns (total 18 columns):\n",
      "Annual Income                   6472 non-null float64\n",
      "Tax Liens                       6472 non-null float64\n",
      "Number of Open Accounts         6472 non-null float64\n",
      "Years of Credit History         6472 non-null float64\n",
      "Maximum Open Credit             6472 non-null float64\n",
      "Number of Credit Problems       6472 non-null float64\n",
      "Months since last delinquent    6472 non-null float64\n",
      "Bankruptcies                    6472 non-null float64\n",
      "Purpose                         6472 non-null object\n",
      "Term                            6472 non-null object\n",
      "Current Loan Amount             6472 non-null float64\n",
      "Current Credit Balance          6472 non-null float64\n",
      "Monthly Debt                    6472 non-null float64\n",
      "Credit Score                    6472 non-null float64\n",
      "Credit Default                  6472 non-null int64\n",
      "Home                            6472 non-null object\n",
      "Job                             6472 non-null object\n",
      "CLA9                            6472 non-null int64\n",
      "dtypes: float64(12), int64(2), object(4)\n",
      "memory usage: 960.7+ KB\n"
     ]
    }
   ],
   "source": [
    "df_.info()"
   ]
  },
  {
   "cell_type": "code",
   "execution_count": 44,
   "metadata": {},
   "outputs": [
    {
     "data": {
      "text/html": [
       "<div>\n",
       "<style scoped>\n",
       "    .dataframe tbody tr th:only-of-type {\n",
       "        vertical-align: middle;\n",
       "    }\n",
       "\n",
       "    .dataframe tbody tr th {\n",
       "        vertical-align: top;\n",
       "    }\n",
       "\n",
       "    .dataframe thead th {\n",
       "        text-align: right;\n",
       "    }\n",
       "</style>\n",
       "<table border=\"1\" class=\"dataframe\">\n",
       "  <thead>\n",
       "    <tr style=\"text-align: right;\">\n",
       "      <th></th>\n",
       "      <th>count</th>\n",
       "      <th>mean</th>\n",
       "      <th>std</th>\n",
       "      <th>min</th>\n",
       "      <th>25%</th>\n",
       "      <th>50%</th>\n",
       "      <th>75%</th>\n",
       "      <th>max</th>\n",
       "    </tr>\n",
       "  </thead>\n",
       "  <tbody>\n",
       "    <tr>\n",
       "      <td>Annual Income</td>\n",
       "      <td>6472.0000</td>\n",
       "      <td>1366481.4059</td>\n",
       "      <td>809924.5863</td>\n",
       "      <td>164597.0000</td>\n",
       "      <td>865868.0000</td>\n",
       "      <td>1224151.0000</td>\n",
       "      <td>1606388.2500</td>\n",
       "      <td>9000000.0000</td>\n",
       "    </tr>\n",
       "    <tr>\n",
       "      <td>Tax Liens</td>\n",
       "      <td>6472.0000</td>\n",
       "      <td>0.0318</td>\n",
       "      <td>0.2811</td>\n",
       "      <td>0.0000</td>\n",
       "      <td>0.0000</td>\n",
       "      <td>0.0000</td>\n",
       "      <td>0.0000</td>\n",
       "      <td>7.0000</td>\n",
       "    </tr>\n",
       "    <tr>\n",
       "      <td>Number of Open Accounts</td>\n",
       "      <td>6472.0000</td>\n",
       "      <td>11.1465</td>\n",
       "      <td>4.8975</td>\n",
       "      <td>2.0000</td>\n",
       "      <td>8.0000</td>\n",
       "      <td>10.0000</td>\n",
       "      <td>14.0000</td>\n",
       "      <td>43.0000</td>\n",
       "    </tr>\n",
       "    <tr>\n",
       "      <td>Years of Credit History</td>\n",
       "      <td>6472.0000</td>\n",
       "      <td>18.2845</td>\n",
       "      <td>7.0648</td>\n",
       "      <td>4.0000</td>\n",
       "      <td>13.5000</td>\n",
       "      <td>17.0000</td>\n",
       "      <td>21.8000</td>\n",
       "      <td>57.7000</td>\n",
       "    </tr>\n",
       "    <tr>\n",
       "      <td>Maximum Open Credit</td>\n",
       "      <td>6472.0000</td>\n",
       "      <td>603594.8483</td>\n",
       "      <td>458333.9941</td>\n",
       "      <td>0.0000</td>\n",
       "      <td>276765.5000</td>\n",
       "      <td>475662.0000</td>\n",
       "      <td>788447.0000</td>\n",
       "      <td>2000000.0000</td>\n",
       "    </tr>\n",
       "    <tr>\n",
       "      <td>Number of Credit Problems</td>\n",
       "      <td>6472.0000</td>\n",
       "      <td>0.1740</td>\n",
       "      <td>0.5077</td>\n",
       "      <td>0.0000</td>\n",
       "      <td>0.0000</td>\n",
       "      <td>0.0000</td>\n",
       "      <td>0.0000</td>\n",
       "      <td>6.0000</td>\n",
       "    </tr>\n",
       "    <tr>\n",
       "      <td>Months since last delinquent</td>\n",
       "      <td>6472.0000</td>\n",
       "      <td>15.5422</td>\n",
       "      <td>23.1927</td>\n",
       "      <td>-1.0000</td>\n",
       "      <td>-1.0000</td>\n",
       "      <td>-1.0000</td>\n",
       "      <td>30.0000</td>\n",
       "      <td>118.0000</td>\n",
       "    </tr>\n",
       "    <tr>\n",
       "      <td>Bankruptcies</td>\n",
       "      <td>6472.0000</td>\n",
       "      <td>0.1171</td>\n",
       "      <td>0.3549</td>\n",
       "      <td>-1.0000</td>\n",
       "      <td>0.0000</td>\n",
       "      <td>0.0000</td>\n",
       "      <td>0.0000</td>\n",
       "      <td>4.0000</td>\n",
       "    </tr>\n",
       "    <tr>\n",
       "      <td>Current Loan Amount</td>\n",
       "      <td>6472.0000</td>\n",
       "      <td>271939.3198</td>\n",
       "      <td>201921.2502</td>\n",
       "      <td>1.0000</td>\n",
       "      <td>121478.5000</td>\n",
       "      <td>237347.0000</td>\n",
       "      <td>400290.0000</td>\n",
       "      <td>789030.0000</td>\n",
       "    </tr>\n",
       "    <tr>\n",
       "      <td>Current Credit Balance</td>\n",
       "      <td>6472.0000</td>\n",
       "      <td>282331.8177</td>\n",
       "      <td>256102.6468</td>\n",
       "      <td>0.0000</td>\n",
       "      <td>114166.2500</td>\n",
       "      <td>211042.5000</td>\n",
       "      <td>361950.0000</td>\n",
       "      <td>1500000.0000</td>\n",
       "    </tr>\n",
       "    <tr>\n",
       "      <td>Monthly Debt</td>\n",
       "      <td>6472.0000</td>\n",
       "      <td>18337.2563</td>\n",
       "      <td>11915.8928</td>\n",
       "      <td>0.0000</td>\n",
       "      <td>10124.7500</td>\n",
       "      <td>16089.5000</td>\n",
       "      <td>23861.2500</td>\n",
       "      <td>136679.0000</td>\n",
       "    </tr>\n",
       "    <tr>\n",
       "      <td>Credit Score</td>\n",
       "      <td>6472.0000</td>\n",
       "      <td>720.0771</td>\n",
       "      <td>26.8122</td>\n",
       "      <td>585.0000</td>\n",
       "      <td>710.0000</td>\n",
       "      <td>726.0000</td>\n",
       "      <td>740.0000</td>\n",
       "      <td>751.0000</td>\n",
       "    </tr>\n",
       "    <tr>\n",
       "      <td>Credit Default</td>\n",
       "      <td>6472.0000</td>\n",
       "      <td>0.3265</td>\n",
       "      <td>0.4690</td>\n",
       "      <td>0.0000</td>\n",
       "      <td>0.0000</td>\n",
       "      <td>0.0000</td>\n",
       "      <td>1.0000</td>\n",
       "      <td>1.0000</td>\n",
       "    </tr>\n",
       "    <tr>\n",
       "      <td>CLA9</td>\n",
       "      <td>6472.0000</td>\n",
       "      <td>0.1344</td>\n",
       "      <td>0.3411</td>\n",
       "      <td>0.0000</td>\n",
       "      <td>0.0000</td>\n",
       "      <td>0.0000</td>\n",
       "      <td>0.0000</td>\n",
       "      <td>1.0000</td>\n",
       "    </tr>\n",
       "  </tbody>\n",
       "</table>\n",
       "</div>"
      ],
      "text/plain": [
       "                                 count         mean         std         min  \\\n",
       "Annual Income                6472.0000 1366481.4059 809924.5863 164597.0000   \n",
       "Tax Liens                    6472.0000       0.0318      0.2811      0.0000   \n",
       "Number of Open Accounts      6472.0000      11.1465      4.8975      2.0000   \n",
       "Years of Credit History      6472.0000      18.2845      7.0648      4.0000   \n",
       "Maximum Open Credit          6472.0000  603594.8483 458333.9941      0.0000   \n",
       "Number of Credit Problems    6472.0000       0.1740      0.5077      0.0000   \n",
       "Months since last delinquent 6472.0000      15.5422     23.1927     -1.0000   \n",
       "Bankruptcies                 6472.0000       0.1171      0.3549     -1.0000   \n",
       "Current Loan Amount          6472.0000  271939.3198 201921.2502      1.0000   \n",
       "Current Credit Balance       6472.0000  282331.8177 256102.6468      0.0000   \n",
       "Monthly Debt                 6472.0000   18337.2563  11915.8928      0.0000   \n",
       "Credit Score                 6472.0000     720.0771     26.8122    585.0000   \n",
       "Credit Default               6472.0000       0.3265      0.4690      0.0000   \n",
       "CLA9                         6472.0000       0.1344      0.3411      0.0000   \n",
       "\n",
       "                                     25%          50%          75%  \\\n",
       "Annual Income                865868.0000 1224151.0000 1606388.2500   \n",
       "Tax Liens                         0.0000       0.0000       0.0000   \n",
       "Number of Open Accounts           8.0000      10.0000      14.0000   \n",
       "Years of Credit History          13.5000      17.0000      21.8000   \n",
       "Maximum Open Credit          276765.5000  475662.0000  788447.0000   \n",
       "Number of Credit Problems         0.0000       0.0000       0.0000   \n",
       "Months since last delinquent     -1.0000      -1.0000      30.0000   \n",
       "Bankruptcies                      0.0000       0.0000       0.0000   \n",
       "Current Loan Amount          121478.5000  237347.0000  400290.0000   \n",
       "Current Credit Balance       114166.2500  211042.5000  361950.0000   \n",
       "Monthly Debt                  10124.7500   16089.5000   23861.2500   \n",
       "Credit Score                    710.0000     726.0000     740.0000   \n",
       "Credit Default                    0.0000       0.0000       1.0000   \n",
       "CLA9                              0.0000       0.0000       0.0000   \n",
       "\n",
       "                                      max  \n",
       "Annual Income                9000000.0000  \n",
       "Tax Liens                          7.0000  \n",
       "Number of Open Accounts           43.0000  \n",
       "Years of Credit History           57.7000  \n",
       "Maximum Open Credit          2000000.0000  \n",
       "Number of Credit Problems          6.0000  \n",
       "Months since last delinquent     118.0000  \n",
       "Bankruptcies                       4.0000  \n",
       "Current Loan Amount           789030.0000  \n",
       "Current Credit Balance       1500000.0000  \n",
       "Monthly Debt                  136679.0000  \n",
       "Credit Score                     751.0000  \n",
       "Credit Default                     1.0000  \n",
       "CLA9                               1.0000  "
      ]
     },
     "execution_count": 44,
     "metadata": {},
     "output_type": "execute_result"
    }
   ],
   "source": [
    "df_.describe().T"
   ]
  },
  {
   "cell_type": "code",
   "execution_count": 45,
   "metadata": {},
   "outputs": [
    {
     "data": {
      "text/plain": [
       "0    5602\n",
       "1     870\n",
       "Name: CLA9, dtype: int64"
      ]
     },
     "execution_count": 45,
     "metadata": {},
     "output_type": "execute_result"
    }
   ],
   "source": [
    "df_['CLA9'].value_counts()"
   ]
  },
  {
   "cell_type": "code",
   "execution_count": 46,
   "metadata": {},
   "outputs": [
    {
     "data": {
      "text/plain": [
       "<matplotlib.axes._subplots.AxesSubplot at 0x248f825c088>"
      ]
     },
     "execution_count": 46,
     "metadata": {},
     "output_type": "execute_result"
    },
    {
     "data": {
      "image/png": "[encoded data removed]",
      "text/plain": [
       "<Figure size 864x144 with 1 Axes>"
      ]
     },
     "metadata": {},
     "output_type": "display_data"
    }
   ],
   "source": [
    "# Кредитный рейнинг\n",
    "sns.set_palette(\"deep\")\n",
    "plt.figure(figsize=(12, 2))\n",
    "sns.boxplot(df_['Credit Score'], orient=\"h\")"
   ]
  },
  {
   "cell_type": "code",
   "execution_count": 47,
   "metadata": {},
   "outputs": [
    {
     "data": {
      "text/plain": [
       "<matplotlib.axes._subplots.AxesSubplot at 0x248f8290088>"
      ]
     },
     "execution_count": 47,
     "metadata": {},
     "output_type": "execute_result"
    },
    {
     "data": {
      "image/png": "[encoded data removed]",
      "text/plain": [
       "<Figure size 864x432 with 1 Axes>"
      ]
     },
     "metadata": {},
     "output_type": "display_data"
    }
   ],
   "source": [
    "# Кредитный рейнинг (гистограмма)\n",
    "df_['Credit Score'].hist(bins=80)"
   ]
  },
  {
   "cell_type": "code",
   "execution_count": 48,
   "metadata": {},
   "outputs": [
    {
     "data": {
      "text/plain": [
       "<matplotlib.axes._subplots.AxesSubplot at 0x248f9919848>"
      ]
     },
     "execution_count": 48,
     "metadata": {},
     "output_type": "execute_result"
    },
    {
     "data": {
      "image/png": "[encoded data removed]",
      "text/plain": [
       "<Figure size 864x432 with 1 Axes>"
      ]
     },
     "metadata": {},
     "output_type": "display_data"
    }
   ],
   "source": [
    "# Распределение Годового дохода\n",
    "sns.distplot(df_[\"Annual Income\"])"
   ]
  },
  {
   "cell_type": "code",
   "execution_count": 49,
   "metadata": {},
   "outputs": [
    {
     "data": {
      "text/plain": [
       "<matplotlib.axes._subplots.AxesSubplot at 0x248f98270c8>"
      ]
     },
     "execution_count": 49,
     "metadata": {},
     "output_type": "execute_result"
    },
    {
     "data": {
      "image/png": "[encoded data removed]",
      "text/plain": [
       "<Figure size 864x432 with 1 Axes>"
      ]
     },
     "metadata": {},
     "output_type": "display_data"
    }
   ],
   "source": [
    "# Распределение Текущей суммы кредита\n",
    "sns.distplot(df_[\"Current Loan Amount\"])"
   ]
  },
  {
   "cell_type": "code",
   "execution_count": 50,
   "metadata": {},
   "outputs": [
    {
     "data": {
      "text/plain": [
       "<matplotlib.axes._subplots.AxesSubplot at 0x248f7cdf708>"
      ]
     },
     "execution_count": 50,
     "metadata": {},
     "output_type": "execute_result"
    },
    {
     "data": {
      "image/png": "[encoded data removed]",
      "text/plain": [
       "<Figure size 864x432 with 1 Axes>"
      ]
     },
     "metadata": {},
     "output_type": "display_data"
    }
   ],
   "source": [
    "# Количество открытых кредитов\n",
    "df_['Number of Open Accounts'].hist(bins=40)"
   ]
  },
  {
   "cell_type": "code",
   "execution_count": 51,
   "metadata": {},
   "outputs": [
    {
     "data": {
      "text/plain": [
       "<matplotlib.legend.Legend at 0x248f7c094c8>"
      ]
     },
     "execution_count": 51,
     "metadata": {},
     "output_type": "execute_result"
    },
    {
     "data": {
      "image/png": "[encoded data removed]",
      "text/plain": [
       "<Figure size 864x432 with 1 Axes>"
      ]
     },
     "metadata": {},
     "output_type": "display_data"
    }
   ],
   "source": [
    "# Соотношение просрочек/погашений по Количеству банкротств\n",
    "labels = [\"Погашен вовремя\", \"Просрочка\"]\n",
    "ax = sns.countplot(x=\"Bankruptcies\", hue=\"Credit Default\", data=df_)\n",
    "ax.legend(labels)"
   ]
  },
  {
   "cell_type": "code",
   "execution_count": 52,
   "metadata": {},
   "outputs": [
    {
     "data": {
      "text/plain": [
       "Annual Income                   0\n",
       "Tax Liens                       0\n",
       "Number of Open Accounts         0\n",
       "Years of Credit History         0\n",
       "Maximum Open Credit             0\n",
       "Number of Credit Problems       0\n",
       "Months since last delinquent    0\n",
       "Bankruptcies                    0\n",
       "Purpose                         0\n",
       "Term                            0\n",
       "Current Loan Amount             0\n",
       "Current Credit Balance          0\n",
       "Monthly Debt                    0\n",
       "Credit Score                    0\n",
       "Credit Default                  0\n",
       "Home                            0\n",
       "Job                             0\n",
       "CLA9                            0\n",
       "dtype: int64"
      ]
     },
     "execution_count": 52,
     "metadata": {},
     "output_type": "execute_result"
    }
   ],
   "source": [
    "# Есть ли пропущенные значения после обработки?\n",
    "df_.isnull().sum()"
   ]
  },
  {
   "cell_type": "code",
   "execution_count": 53,
   "metadata": {},
   "outputs": [
    {
     "data": {
      "text/plain": [
       "Credit Default               1.0000\n",
       "Current Loan Amount          0.1887\n",
       "Number of Open Accounts      0.0300\n",
       "Tax Liens                    0.0220\n",
       "Monthly Debt                 0.0192\n",
       "Number of Credit Problems    0.0165\n",
       "Current Credit Balance      -0.0151\n",
       "Years of Credit History     -0.0195\n",
       "Maximum Open Credit         -0.0696\n",
       "Annual Income               -0.0908\n",
       "Credit Score                -0.1875\n",
       "CLA9                        -0.2744\n",
       "Name: Credit Default, dtype: float64"
      ]
     },
     "execution_count": 53,
     "metadata": {},
     "output_type": "execute_result"
    }
   ],
   "source": [
    "# Корреляция признаков с целевой колонкой\n",
    "corr_f = df_.corr()['Credit Default']\n",
    "corr_fs = corr_f[corr_f.abs() > 0.01].sort_values(ascending=False)\n",
    "corr_fs"
   ]
  },
  {
   "cell_type": "code",
   "execution_count": 54,
   "metadata": {},
   "outputs": [
    {
     "data": {
      "image/png": "[encoded data removed]",
      "text/plain": [
       "<Figure size 1152x1152 with 2 Axes>"
      ]
     },
     "metadata": {},
     "output_type": "display_data"
    }
   ],
   "source": [
    "# График зависимостей признаков\n",
    "dfc = df_.loc[:, corr_fs.index]\n",
    "mask = np.zeros_like(dfc.corr())\n",
    "mask[np.triu_indices_from(mask)] = True\n",
    "plt.figure(figsize=(16, 16))\n",
    "#sns.heatmap(dfc.corr(), cmap='coolwarm',annot=True)\n",
    "with sns.axes_style(\"white\"):\n",
    "    ax = sns.heatmap(dfc.corr(), cmap='coolwarm', annot=True, mask=mask, square=True)"
   ]
  },
  {
   "cell_type": "code",
   "execution_count": 55,
   "metadata": {},
   "outputs": [
    {
     "name": "stdout",
     "output_type": "stream",
     "text": [
      "<class 'pandas.core.frame.DataFrame'>\n",
      "Int64Index: 6472 entries, 0 to 7497\n",
      "Data columns (total 18 columns):\n",
      "Annual Income                   6472 non-null float64\n",
      "Tax Liens                       6472 non-null float64\n",
      "Number of Open Accounts         6472 non-null float64\n",
      "Years of Credit History         6472 non-null float64\n",
      "Maximum Open Credit             6472 non-null float64\n",
      "Number of Credit Problems       6472 non-null float64\n",
      "Months since last delinquent    6472 non-null float64\n",
      "Bankruptcies                    6472 non-null float64\n",
      "Purpose                         6472 non-null object\n",
      "Term                            6472 non-null object\n",
      "Current Loan Amount             6472 non-null float64\n",
      "Current Credit Balance          6472 non-null float64\n",
      "Monthly Debt                    6472 non-null float64\n",
      "Credit Score                    6472 non-null float64\n",
      "Credit Default                  6472 non-null int64\n",
      "Home                            6472 non-null object\n",
      "Job                             6472 non-null object\n",
      "CLA9                            6472 non-null int64\n",
      "dtypes: float64(12), int64(2), object(4)\n",
      "memory usage: 1.3+ MB\n"
     ]
    }
   ],
   "source": [
    "df_.info()"
   ]
  },
  {
   "cell_type": "code",
   "execution_count": 56,
   "metadata": {},
   "outputs": [],
   "source": [
    "def show_proba_calibration_plots(y_predicted_probs, y_true_labels):\n",
    "    preds_with_true_labels = np.array(list(zip(y_predicted_probs, y_true_labels)))\n",
    "\n",
    "    thresholds = []\n",
    "    precisions = []\n",
    "    recalls = []\n",
    "    f1_scores = []\n",
    "\n",
    "    for threshold in np.linspace(0.1, 0.8, 15):\n",
    "        thresholds.append(threshold)\n",
    "        precisions.append(precision_score(y_true_labels, list(map(int, y_predicted_probs > threshold))))\n",
    "        recalls.append(recall_score(y_true_labels, list(map(int, y_predicted_probs > threshold))))\n",
    "        f1_scores.append(f1_score(y_true_labels, list(map(int, y_predicted_probs > threshold))))\n",
    "\n",
    "    scores_table = pd.DataFrame({'f1':f1_scores,\n",
    "                                 'precision':precisions,\n",
    "                                 'recall':recalls,\n",
    "                                 'probability':thresholds}).sort_values('f1', ascending=False).round(3)\n",
    "  \n",
    "    figure = plt.figure(figsize = (15, 5))\n",
    "\n",
    "    plt1 = figure.add_subplot(121)\n",
    "    plt1.plot(thresholds, precisions, label='Precision', linewidth=4)\n",
    "    plt1.plot(thresholds, recalls, label='Recall', linewidth=4)\n",
    "    plt1.plot(thresholds, f1_scores, label='F1', linewidth=4)\n",
    "    plt1.set_ylabel('Scores')\n",
    "    plt1.set_xlabel('Probability threshold')\n",
    "    plt1.set_title('Probabilities threshold calibration')\n",
    "    plt1.legend(bbox_to_anchor=(0.25, 0.25))   \n",
    "    plt1.table(cellText = scores_table.values,\n",
    "               colLabels = scores_table.columns, \n",
    "               colLoc = 'center', cellLoc = 'center', loc = 'bottom', bbox = [0, -1.3, 1, 1])\n",
    "\n",
    "    plt2 = figure.add_subplot(122)\n",
    "    plt2.hist(preds_with_true_labels[preds_with_true_labels[:, 1] == 0][:, 0], \n",
    "              label='Another class', color='royalblue', alpha=1)\n",
    "    plt2.hist(preds_with_true_labels[preds_with_true_labels[:, 1] == 1][:, 0], \n",
    "              label='Main class', color='darkcyan', alpha=0.8)\n",
    "    plt2.set_ylabel('Number of examples')\n",
    "    plt2.set_xlabel('Probabilities')\n",
    "    plt2.set_title('Probability histogram')\n",
    "    plt2.legend(bbox_to_anchor=(1, 1))\n",
    "\n",
    "    plt.show()"
   ]
  },
  {
   "cell_type": "code",
   "execution_count": 57,
   "metadata": {},
   "outputs": [
    {
     "data": {
      "text/plain": [
       "Home       category\n",
       "Purpose    category\n",
       "Job        category\n",
       "Term       category\n",
       "CLA9       category\n",
       "dtype: object"
      ]
     },
     "execution_count": 57,
     "metadata": {},
     "output_type": "execute_result"
    }
   ],
   "source": [
    "CAT_FEATURE_NAMES = ['Home', 'Purpose', 'Job', 'Term', 'CLA9']\n",
    "for colname in CAT_FEATURE_NAMES:\n",
    "    df_[colname] = pd.Categorical(df_[colname])\n",
    "    \n",
    "df_[CAT_FEATURE_NAMES].dtypes"
   ]
  },
  {
   "cell_type": "code",
   "execution_count": 58,
   "metadata": {},
   "outputs": [
    {
     "data": {
      "text/plain": [
       "0    4359\n",
       "1    2113\n",
       "Name: Credit Default, dtype: int64"
      ]
     },
     "execution_count": 58,
     "metadata": {},
     "output_type": "execute_result"
    }
   ],
   "source": [
    "# Обзор целевой переменной\n",
    "df_['Credit Default'].value_counts()"
   ]
  },
  {
   "cell_type": "code",
   "execution_count": 59,
   "metadata": {},
   "outputs": [],
   "source": [
    "# Подготовим данные для модели\n",
    "X = df_.loc[:,df_.columns != 'Credit Default']\n",
    "y = df_.loc[:,df_.columns == 'Credit Default'].to_numpy()"
   ]
  },
  {
   "cell_type": "code",
   "execution_count": 60,
   "metadata": {},
   "outputs": [],
   "source": [
    "X_train, X_test, y_train, y_test = train_test_split(X, y, test_size = 0.25, random_state=42)"
   ]
  },
  {
   "cell_type": "code",
   "execution_count": 61,
   "metadata": {},
   "outputs": [
    {
     "name": "stdout",
     "output_type": "stream",
     "text": [
      "Learning rate set to 0.127461\n",
      "0:\tlearn: 0.7140776\ttest: 0.7240719\tbest: 0.7240719 (0)\ttotal: 62.2ms\tremaining: 6.15s\n",
      "10:\tlearn: 0.6939072\ttest: 0.7023411\tbest: 0.7240719 (0)\ttotal: 111ms\tremaining: 896ms\n",
      "20:\tlearn: 0.7004207\ttest: 0.7070623\tbest: 0.7240719 (0)\ttotal: 153ms\tremaining: 576ms\n",
      "30:\tlearn: 0.7022415\ttest: 0.7180342\tbest: 0.7240719 (0)\ttotal: 202ms\tremaining: 450ms\n",
      "40:\tlearn: 0.7068461\ttest: 0.7175117\tbest: 0.7240719 (0)\ttotal: 253ms\tremaining: 365ms\n",
      "50:\tlearn: 0.7093075\ttest: 0.7196581\tbest: 0.7240719 (0)\ttotal: 303ms\tremaining: 291ms\n",
      "60:\tlearn: 0.7108893\ttest: 0.7112646\tbest: 0.7240719 (0)\ttotal: 352ms\tremaining: 225ms\n",
      "70:\tlearn: 0.7146431\ttest: 0.7214808\tbest: 0.7240719 (0)\ttotal: 397ms\tremaining: 162ms\n",
      "80:\tlearn: 0.7158454\ttest: 0.7230571\tbest: 0.7240719 (0)\ttotal: 443ms\tremaining: 104ms\n",
      "90:\tlearn: 0.7160018\ttest: 0.7258621\tbest: 0.7258621 (90)\ttotal: 493ms\tremaining: 48.8ms\n",
      "99:\tlearn: 0.7162846\ttest: 0.7202073\tbest: 0.7277419 (91)\ttotal: 531ms\tremaining: 0us\n",
      "\n",
      "bestTest = 0.7277419355\n",
      "bestIteration = 91\n",
      "\n",
      "Shrink model to first 92 iterations.\n"
     ]
    },
    {
     "data": {
      "text/plain": [
       "<catboost.core.CatBoostClassifier at 0x248f83502c8>"
      ]
     },
     "execution_count": 61,
     "metadata": {},
     "output_type": "execute_result"
    }
   ],
   "source": [
    "model_catb = CatBoostClassifier(iterations=100, max_depth=4, class_weights={0: 1.0, 1: 2.0}, eval_metric='F1',\n",
    "                                verbose=10, random_state=37, use_best_model=True)\n",
    "model_catb.fit(X_train, y_train, CAT_FEATURE_NAMES, eval_set=(X_test, y_test))"
   ]
  },
  {
   "cell_type": "code",
   "execution_count": 62,
   "metadata": {},
   "outputs": [
    {
     "data": {
      "text/plain": [
       "<matplotlib.axes._subplots.AxesSubplot at 0x248f7d77d08>"
      ]
     },
     "execution_count": 62,
     "metadata": {},
     "output_type": "execute_result"
    },
    {
     "data": {
      "image/png": "[encoded data removed]",
      "text/plain": [
       "<Figure size 864x432 with 1 Axes>"
      ]
     },
     "metadata": {},
     "output_type": "display_data"
    }
   ],
   "source": [
    "# Выведем график 15-ти наиболее важных признаков (относительно целевого \"Credit Default\")\n",
    "feat_importances = pd.Series(model_catb.get_feature_importance(), index=X_train.columns)\n",
    "feat_importances.nlargest(15).plot(kind='barh')"
   ]
  },
  {
   "cell_type": "code",
   "execution_count": 63,
   "metadata": {},
   "outputs": [
    {
     "name": "stdout",
     "output_type": "stream",
     "text": [
      "              precision    recall  f1-score   support\n",
      "\n",
      "           0       0.85      0.63      0.73      1075\n",
      "           1       0.52      0.78      0.62       543\n",
      "\n",
      "    accuracy                           0.68      1618\n",
      "   macro avg       0.68      0.71      0.67      1618\n",
      "weighted avg       0.74      0.68      0.69      1618\n",
      "\n"
     ]
    }
   ],
   "source": [
    "y_pred = model_catb.predict(X_test)\n",
    "y_pred_probs = model_catb.predict_proba(X_test)\n",
    "print(classification_report(y_test, y_pred))"
   ]
  },
  {
   "cell_type": "code",
   "execution_count": 64,
   "metadata": {},
   "outputs": [
    {
     "data": {
      "image/png": "[encoded data removed]",
      "text/plain": [
       "<Figure size 1080x360 with 2 Axes>"
      ]
     },
     "metadata": {},
     "output_type": "display_data"
    }
   ],
   "source": [
    "show_proba_calibration_plots(y_pred_probs[:, 1], y_test)"
   ]
  },
  {
   "cell_type": "markdown",
   "metadata": {},
   "source": [
    "#### Подготовка и предсказание на тестовом наборе данных"
   ]
  },
  {
   "cell_type": "code",
   "execution_count": 65,
   "metadata": {},
   "outputs": [
    {
     "name": "stdout",
     "output_type": "stream",
     "text": [
      "<class 'pandas.core.frame.DataFrame'>\n",
      "RangeIndex: 2500 entries, 0 to 2499\n",
      "Data columns (total 16 columns):\n",
      "Home Ownership                  2500 non-null object\n",
      "Annual Income                   1987 non-null float64\n",
      "Years in current job            2414 non-null object\n",
      "Tax Liens                       2500 non-null float64\n",
      "Number of Open Accounts         2500 non-null float64\n",
      "Years of Credit History         2500 non-null float64\n",
      "Maximum Open Credit             2500 non-null float64\n",
      "Number of Credit Problems       2500 non-null float64\n",
      "Months since last delinquent    1142 non-null float64\n",
      "Bankruptcies                    2497 non-null float64\n",
      "Purpose                         2500 non-null object\n",
      "Term                            2500 non-null object\n",
      "Current Loan Amount             2500 non-null float64\n",
      "Current Credit Balance          2500 non-null float64\n",
      "Monthly Debt                    2500 non-null float64\n",
      "Credit Score                    1987 non-null float64\n",
      "dtypes: float64(12), object(4)\n",
      "memory usage: 312.6+ KB\n"
     ]
    }
   ],
   "source": [
    "dft.info()"
   ]
  },
  {
   "cell_type": "code",
   "execution_count": 66,
   "metadata": {},
   "outputs": [],
   "source": [
    "# Обработка данных\n",
    "df_test = prep(dft)"
   ]
  },
  {
   "cell_type": "code",
   "execution_count": 67,
   "metadata": {},
   "outputs": [],
   "source": [
    "for colname in CAT_FEATURE_NAMES:\n",
    "    df_test[colname] = pd.Categorical(df_test[colname])"
   ]
  },
  {
   "cell_type": "code",
   "execution_count": 68,
   "metadata": {},
   "outputs": [
    {
     "name": "stdout",
     "output_type": "stream",
     "text": [
      "<class 'pandas.core.frame.DataFrame'>\n",
      "RangeIndex: 2500 entries, 0 to 2499\n",
      "Data columns (total 17 columns):\n",
      "Annual Income                   2500 non-null float64\n",
      "Tax Liens                       2500 non-null float64\n",
      "Number of Open Accounts         2500 non-null float64\n",
      "Years of Credit History         2500 non-null float64\n",
      "Maximum Open Credit             2500 non-null float64\n",
      "Number of Credit Problems       2500 non-null float64\n",
      "Months since last delinquent    2500 non-null float64\n",
      "Bankruptcies                    2500 non-null float64\n",
      "Purpose                         2500 non-null category\n",
      "Term                            2500 non-null category\n",
      "Current Loan Amount             2500 non-null float64\n",
      "Current Credit Balance          2500 non-null float64\n",
      "Monthly Debt                    2500 non-null float64\n",
      "Credit Score                    2500 non-null float64\n",
      "Home                            2500 non-null category\n",
      "Job                             2500 non-null category\n",
      "CLA9                            2500 non-null category\n",
      "dtypes: category(5), float64(12)\n",
      "memory usage: 248.1 KB\n"
     ]
    }
   ],
   "source": [
    "df_test.info()"
   ]
  },
  {
   "cell_type": "code",
   "execution_count": 69,
   "metadata": {},
   "outputs": [
    {
     "data": {
      "text/html": [
       "<div>\n",
       "<style scoped>\n",
       "    .dataframe tbody tr th:only-of-type {\n",
       "        vertical-align: middle;\n",
       "    }\n",
       "\n",
       "    .dataframe tbody tr th {\n",
       "        vertical-align: top;\n",
       "    }\n",
       "\n",
       "    .dataframe thead th {\n",
       "        text-align: right;\n",
       "    }\n",
       "</style>\n",
       "<table border=\"1\" class=\"dataframe\">\n",
       "  <thead>\n",
       "    <tr style=\"text-align: right;\">\n",
       "      <th></th>\n",
       "      <th>count</th>\n",
       "      <th>mean</th>\n",
       "      <th>std</th>\n",
       "      <th>min</th>\n",
       "      <th>25%</th>\n",
       "      <th>50%</th>\n",
       "      <th>75%</th>\n",
       "      <th>max</th>\n",
       "    </tr>\n",
       "  </thead>\n",
       "  <tbody>\n",
       "    <tr>\n",
       "      <td>Annual Income</td>\n",
       "      <td>2500.0000</td>\n",
       "      <td>1357496.7524</td>\n",
       "      <td>752762.4421</td>\n",
       "      <td>106533.0000</td>\n",
       "      <td>934776.2500</td>\n",
       "      <td>1266912.6250</td>\n",
       "      <td>1574102.5000</td>\n",
       "      <td>9000000.0000</td>\n",
       "    </tr>\n",
       "    <tr>\n",
       "      <td>Tax Liens</td>\n",
       "      <td>2500.0000</td>\n",
       "      <td>0.0352</td>\n",
       "      <td>0.3863</td>\n",
       "      <td>0.0000</td>\n",
       "      <td>0.0000</td>\n",
       "      <td>0.0000</td>\n",
       "      <td>0.0000</td>\n",
       "      <td>15.0000</td>\n",
       "    </tr>\n",
       "    <tr>\n",
       "      <td>Number of Open Accounts</td>\n",
       "      <td>2500.0000</td>\n",
       "      <td>11.1844</td>\n",
       "      <td>4.8528</td>\n",
       "      <td>1.0000</td>\n",
       "      <td>8.0000</td>\n",
       "      <td>10.0000</td>\n",
       "      <td>14.0000</td>\n",
       "      <td>48.0000</td>\n",
       "    </tr>\n",
       "    <tr>\n",
       "      <td>Years of Credit History</td>\n",
       "      <td>2500.0000</td>\n",
       "      <td>18.3259</td>\n",
       "      <td>7.2547</td>\n",
       "      <td>3.9000</td>\n",
       "      <td>13.4000</td>\n",
       "      <td>17.0000</td>\n",
       "      <td>22.1000</td>\n",
       "      <td>53.4000</td>\n",
       "    </tr>\n",
       "    <tr>\n",
       "      <td>Maximum Open Credit</td>\n",
       "      <td>2500.0000</td>\n",
       "      <td>615194.6984</td>\n",
       "      <td>471339.9397</td>\n",
       "      <td>0.0000</td>\n",
       "      <td>278586.0000</td>\n",
       "      <td>478676.0000</td>\n",
       "      <td>802598.5000</td>\n",
       "      <td>2000000.0000</td>\n",
       "    </tr>\n",
       "    <tr>\n",
       "      <td>Number of Credit Problems</td>\n",
       "      <td>2500.0000</td>\n",
       "      <td>0.1580</td>\n",
       "      <td>0.4837</td>\n",
       "      <td>0.0000</td>\n",
       "      <td>0.0000</td>\n",
       "      <td>0.0000</td>\n",
       "      <td>0.0000</td>\n",
       "      <td>6.0000</td>\n",
       "    </tr>\n",
       "    <tr>\n",
       "      <td>Months since last delinquent</td>\n",
       "      <td>2500.0000</td>\n",
       "      <td>15.0708</td>\n",
       "      <td>22.9939</td>\n",
       "      <td>-1.0000</td>\n",
       "      <td>-1.0000</td>\n",
       "      <td>-1.0000</td>\n",
       "      <td>27.0000</td>\n",
       "      <td>82.0000</td>\n",
       "    </tr>\n",
       "    <tr>\n",
       "      <td>Bankruptcies</td>\n",
       "      <td>2500.0000</td>\n",
       "      <td>0.1056</td>\n",
       "      <td>0.3590</td>\n",
       "      <td>-1.0000</td>\n",
       "      <td>0.0000</td>\n",
       "      <td>0.0000</td>\n",
       "      <td>0.0000</td>\n",
       "      <td>5.0000</td>\n",
       "    </tr>\n",
       "    <tr>\n",
       "      <td>Current Loan Amount</td>\n",
       "      <td>2500.0000</td>\n",
       "      <td>275719.8708</td>\n",
       "      <td>199136.0594</td>\n",
       "      <td>1.0000</td>\n",
       "      <td>124536.5000</td>\n",
       "      <td>257103.0000</td>\n",
       "      <td>398893.0000</td>\n",
       "      <td>789096.0000</td>\n",
       "    </tr>\n",
       "    <tr>\n",
       "      <td>Current Credit Balance</td>\n",
       "      <td>2500.0000</td>\n",
       "      <td>280440.7196</td>\n",
       "      <td>258107.8269</td>\n",
       "      <td>0.0000</td>\n",
       "      <td>110114.5000</td>\n",
       "      <td>207385.0000</td>\n",
       "      <td>366348.5000</td>\n",
       "      <td>1500000.0000</td>\n",
       "    </tr>\n",
       "    <tr>\n",
       "      <td>Monthly Debt</td>\n",
       "      <td>2500.0000</td>\n",
       "      <td>18271.3400</td>\n",
       "      <td>11543.8815</td>\n",
       "      <td>93.0000</td>\n",
       "      <td>10024.7500</td>\n",
       "      <td>16642.5000</td>\n",
       "      <td>24146.0000</td>\n",
       "      <td>93555.0000</td>\n",
       "    </tr>\n",
       "    <tr>\n",
       "      <td>Credit Score</td>\n",
       "      <td>2500.0000</td>\n",
       "      <td>719.4710</td>\n",
       "      <td>24.8916</td>\n",
       "      <td>585.0000</td>\n",
       "      <td>712.0000</td>\n",
       "      <td>722.2115</td>\n",
       "      <td>738.0000</td>\n",
       "      <td>751.0000</td>\n",
       "    </tr>\n",
       "  </tbody>\n",
       "</table>\n",
       "</div>"
      ],
      "text/plain": [
       "                                 count         mean         std         min  \\\n",
       "Annual Income                2500.0000 1357496.7524 752762.4421 106533.0000   \n",
       "Tax Liens                    2500.0000       0.0352      0.3863      0.0000   \n",
       "Number of Open Accounts      2500.0000      11.1844      4.8528      1.0000   \n",
       "Years of Credit History      2500.0000      18.3259      7.2547      3.9000   \n",
       "Maximum Open Credit          2500.0000  615194.6984 471339.9397      0.0000   \n",
       "Number of Credit Problems    2500.0000       0.1580      0.4837      0.0000   \n",
       "Months since last delinquent 2500.0000      15.0708     22.9939     -1.0000   \n",
       "Bankruptcies                 2500.0000       0.1056      0.3590     -1.0000   \n",
       "Current Loan Amount          2500.0000  275719.8708 199136.0594      1.0000   \n",
       "Current Credit Balance       2500.0000  280440.7196 258107.8269      0.0000   \n",
       "Monthly Debt                 2500.0000   18271.3400  11543.8815     93.0000   \n",
       "Credit Score                 2500.0000     719.4710     24.8916    585.0000   \n",
       "\n",
       "                                     25%          50%          75%  \\\n",
       "Annual Income                934776.2500 1266912.6250 1574102.5000   \n",
       "Tax Liens                         0.0000       0.0000       0.0000   \n",
       "Number of Open Accounts           8.0000      10.0000      14.0000   \n",
       "Years of Credit History          13.4000      17.0000      22.1000   \n",
       "Maximum Open Credit          278586.0000  478676.0000  802598.5000   \n",
       "Number of Credit Problems         0.0000       0.0000       0.0000   \n",
       "Months since last delinquent     -1.0000      -1.0000      27.0000   \n",
       "Bankruptcies                      0.0000       0.0000       0.0000   \n",
       "Current Loan Amount          124536.5000  257103.0000  398893.0000   \n",
       "Current Credit Balance       110114.5000  207385.0000  366348.5000   \n",
       "Monthly Debt                  10024.7500   16642.5000   24146.0000   \n",
       "Credit Score                    712.0000     722.2115     738.0000   \n",
       "\n",
       "                                      max  \n",
       "Annual Income                9000000.0000  \n",
       "Tax Liens                         15.0000  \n",
       "Number of Open Accounts           48.0000  \n",
       "Years of Credit History           53.4000  \n",
       "Maximum Open Credit          2000000.0000  \n",
       "Number of Credit Problems          6.0000  \n",
       "Months since last delinquent      82.0000  \n",
       "Bankruptcies                       5.0000  \n",
       "Current Loan Amount           789096.0000  \n",
       "Current Credit Balance       1500000.0000  \n",
       "Monthly Debt                   93555.0000  \n",
       "Credit Score                     751.0000  "
      ]
     },
     "execution_count": 69,
     "metadata": {},
     "output_type": "execute_result"
    }
   ],
   "source": [
    "df_test.describe().T"
   ]
  },
  {
   "cell_type": "code",
   "execution_count": 70,
   "metadata": {},
   "outputs": [],
   "source": [
    "# Предсказание\n",
    "y_pred = model_catb.predict(df_test)"
   ]
  },
  {
   "cell_type": "code",
   "execution_count": 71,
   "metadata": {},
   "outputs": [
    {
     "data": {
      "text/plain": [
       "(2500,)"
      ]
     },
     "execution_count": 71,
     "metadata": {},
     "output_type": "execute_result"
    }
   ],
   "source": [
    "y_pred.shape"
   ]
  },
  {
   "cell_type": "markdown",
   "metadata": {},
   "source": [
    "#### __6__. Saving the result"
   ]
  },
  {
   "cell_type": "code",
   "execution_count": 72,
   "metadata": {},
   "outputs": [],
   "source": [
    "dfr = pd.DataFrame(columns = ['Index','Credit Default'])\n",
    "dfr['Index'] = [x for x in range(2500)]\n",
    "dfr['Credit Default'] = y_pred"
   ]
  },
  {
   "cell_type": "code",
   "execution_count": 73,
   "metadata": {},
   "outputs": [],
   "source": [
    "dfr.to_csv('ISamoylenko_predictions.csv', index=False, encoding='utf-8')"
   ]
  },
  {
   "cell_type": "code",
   "execution_count": 74,
   "metadata": {},
   "outputs": [
    {
     "data": {
      "text/plain": [
       "1    1418\n",
       "0    1082\n",
       "Name: Credit Default, dtype: int64"
      ]
     },
     "execution_count": 74,
     "metadata": {},
     "output_type": "execute_result"
    }
   ],
   "source": [
    "dfr['Credit Default'].value_counts()"
   ]
  },
  {
   "cell_type": "code",
   "execution_count": null,
   "metadata": {},
   "outputs": [],
   "source": []
  }
 ],
 "metadata": {
  "kernelspec": {
   "display_name": "Python 3",
   "language": "python",
   "name": "python3"
  },
  "language_info": {
   "codemirror_mode": {
    "name": "ipython",
    "version": 3
   },
   "file_extension": ".py",
   "mimetype": "text/x-python",
   "name": "python",
   "nbconvert_exporter": "python",
   "pygments_lexer": "ipython3",
   "version": "3.7.6"
  }
 },
 "nbformat": 4,
 "nbformat_minor": 4
}
